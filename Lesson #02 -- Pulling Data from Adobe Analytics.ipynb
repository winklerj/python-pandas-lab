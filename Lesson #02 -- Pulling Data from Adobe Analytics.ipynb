{
 "metadata": {
  "name": "",
  "signature": "sha256:1e0b5059d31e5258ccfe699c95ad203c2ababc4645833ad66b926fcae11ab849"
 },
 "nbformat": 3,
 "nbformat_minor": 0,
 "worksheets": [
  {
   "cells": [
    {
     "cell_type": "markdown",
     "metadata": {},
     "source": [
      "In this lesson we are going to use a Library to pull the data down from Adobe Analytics. The Libraray as well as instructions for installing it can be found on Github [OmniturePy](https://github.com/dancingcactus/python-omniture). I want to give special thanks to [Stijn Debrouwere](https://github.com/debrouwere]) for writing most of the library. If you are attending the lab in person this should already be installed. The docs can be found [here](https://github.com/dancingcactus/python-omniture)"
     ]
    },
    {
     "cell_type": "heading",
     "level": 1,
     "metadata": {},
     "source": [
      "Objectives"
     ]
    },
    {
     "cell_type": "markdown",
     "metadata": {},
     "source": [
      "* Learn how to pull data from Analytics into python for Analysis\n",
      "* Learn how to request different types of reports"
     ]
    },
    {
     "cell_type": "heading",
     "level": 1,
     "metadata": {},
     "source": [
      "Setup of the library"
     ]
    },
    {
     "cell_type": "markdown",
     "metadata": {},
     "source": [
      "First we need to import the library and enter in our authentication credentials"
     ]
    },
    {
     "cell_type": "code",
     "collapsed": false,
     "input": [
      "import omniture\n",
      "\n",
      "an = omniture.authenticate(\"labuser:Lab L721\",\"5b00fe37eb2659d0f3a1231cb3d803f9\")\n",
      "%matplotlib inline"
     ],
     "language": "python",
     "metadata": {},
     "outputs": [],
     "prompt_number": 1
    },
    {
     "cell_type": "markdown",
     "metadata": {},
     "source": [
      "This sets up the library and makes sure you are Authenticated. The `an` variable is your analytics account. It has a number of functions that are useful. The %matplotlib inline forces the graphs to appear here in the notebook instead of in a seperate program"
     ]
    },
    {
     "cell_type": "markdown",
     "metadata": {},
     "source": [
      "You can use the request method to make arbitrary API requests to the Analytics API like so. "
     ]
    },
    {
     "cell_type": "code",
     "collapsed": false,
     "input": [
      "an.request(\"Company\",\"GetEndpoint\")"
     ],
     "language": "python",
     "metadata": {},
     "outputs": [
      {
       "metadata": {},
       "output_type": "pyout",
       "prompt_number": 2,
       "text": [
        "u'https://api.omniture.com/admin/1.4/rest/'"
       ]
      }
     ],
     "prompt_number": 2
    },
    {
     "cell_type": "markdown",
     "metadata": {},
     "source": [
      "There are a number of shortcuts in the library to make common tasks easier. For example if you want to see which report suites your account has you can do this"
     ]
    },
    {
     "cell_type": "code",
     "collapsed": false,
     "input": [
      "an.suites"
     ],
     "language": "python",
     "metadata": {},
     "outputs": [
      {
       "html": [
        "<table><tr><td><b>ID</b></td><td><b>Title</b></td></tr><tr><td>omniture.devportal</td><td>Developer Connection</td></tr></table>"
       ],
       "metadata": {},
       "output_type": "pyout",
       "prompt_number": 3,
       "text": [
        "<AddressableList>"
       ]
      }
     ],
     "prompt_number": 3
    },
    {
     "cell_type": "heading",
     "level": 1,
     "metadata": {},
     "source": [
      "Interacting with Report Suites"
     ]
    },
    {
     "cell_type": "markdown",
     "metadata": {},
     "source": [
      "Lets select a report suite and see what elements and metrics are available. "
     ]
    },
    {
     "cell_type": "code",
     "collapsed": false,
     "input": [
      "#Save a particular report suite in a variable\n",
      "suite = an.suites['omniture.devportal']"
     ],
     "language": "python",
     "metadata": {},
     "outputs": [],
     "prompt_number": 4
    },
    {
     "cell_type": "code",
     "collapsed": false,
     "input": [
      "suite.elements"
     ],
     "language": "python",
     "metadata": {},
     "outputs": [
      {
       "html": [
        "<table><tr><td><b>ID</b></td><td><b>Title</b></td></tr><tr><td><b>accountsummary</b></td><td>Report Suite Totals</td></tr><tr><td><b>browser</b></td><td>Browser</td></tr><tr><td><b>browserheight</b></td><td>Browser Height</td></tr><tr><td><b>browsertype</b></td><td>Browser Type</td></tr><tr><td><b>browserwidth</b></td><td>Browser Width</td></tr><tr><td><b>category</b></td><td>Category</td></tr><tr><td><b>connectiontype</b></td><td>Connection Type</td></tr><tr><td><b>cookiesenabled</b></td><td>Cookies Enabled</td></tr><tr><td><b>customerloyalty</b></td><td>Customer Loyalty</td></tr><tr><td><b>domain</b></td><td>Domain</td></tr><tr><td><b>entrypage</b></td><td>Entry Page</td></tr><tr><td><b>entrypageoriginal</b></td><td>Original Entry Page</td></tr><tr><td><b>evar1</b></td><td>eVar 1</td></tr><tr><td><b>evar15</b></td><td>Detailed Page Name (e)</td></tr><tr><td><b>evar17</b></td><td>Time Parting (e)</td></tr><tr><td><b>evar18</b></td><td>Days Since Last Visit (e)</td></tr><tr><td><b>evar19</b></td><td>Visit Number (e)</td></tr><tr><td><b>evar2</b></td><td>Login Name (e)</td></tr><tr><td><b>evar3</b></td><td>Company (e)</td></tr><tr><td><b>evar37</b></td><td>Site Search Term (e)</td></tr><tr><td><b>evar38</b></td><td>Download Type (e)</td></tr><tr><td><b>evar39</b></td><td>Download Name (e)</td></tr><tr><td><b>evar4</b></td><td>Product (e)</td></tr><tr><td><b>evar5</b></td><td>Product Version (e)</td></tr><tr><td><b>evar6</b></td><td>Site Section (e)</td></tr><tr><td><b>evar7</b></td><td>Page Name (e)</td></tr><tr><td><b>evar9</b></td><td>Geo Segmentation (e)</td></tr><tr><td><b>geocity</b></td><td>GeoSegmentation City</td></tr><tr><td><b>geocountry</b></td><td>GeoSegmentation Country</td></tr><tr><td><b>geodma</b></td><td>GeoSegmentation U.S. DMA</td></tr><tr><td><b>georegion</b></td><td>GeoSegmentation Region</td></tr><tr><td><b>geostate</b></td><td>GeoSegmentation State</td></tr><tr><td><b>hier1</b></td><td>Hierarchy 1</td></tr><tr><td><b>javaenabled</b></td><td>Java Enabled</td></tr><tr><td><b>javascriptenabled</b></td><td>JavaScript Enabled</td></tr><tr><td><b>javascriptversion</b></td><td>JavaScript Version</td></tr><tr><td><b>language</b></td><td>Language</td></tr><tr><td><b>latlon1</b></td><td>Location (down to 10 km)</td></tr><tr><td><b>latlon23</b></td><td>Location (down to 100 m)</td></tr><tr><td><b>latlon45</b></td><td>Location (down to 1 m)</td></tr><tr><td><b>linkcustom</b></td><td>Custom Link</td></tr><tr><td><b>linkdownload</b></td><td>File Download</td></tr><tr><td><b>linkexit</b></td><td>Exit Link</td></tr><tr><td><b>mobileaction</b></td><td>Action Name</td></tr><tr><td><b>mobileappid</b></td><td>App Id</td></tr><tr><td><b>mobilebeaconmajor</b></td><td>Beacon Major</td></tr><tr><td><b>mobilebeaconminor</b></td><td>Beacon Minor</td></tr><tr><td><b>mobilebeaconproximity</b></td><td>Beacon Proximity</td></tr><tr><td><b>mobilebeaconuuid</b></td><td>Beacon UUID</td></tr><tr><td><b>mobilecampaigncontent</b></td><td>Mobile Campaign Content</td></tr><tr><td><b>mobilecampaignmedium</b></td><td>Mobile Campaign Medium</td></tr><tr><td><b>mobilecampaignname</b></td><td>Mobile Campaign Name</td></tr><tr><td><b>mobilecampaignsource</b></td><td>Mobile Campaign Source</td></tr><tr><td><b>mobilecampaignterm</b></td><td>Mobile Campaign Term</td></tr><tr><td><b>mobilecarrier</b></td><td>Mobile Carrier</td></tr><tr><td><b>mobiledayofweek</b></td><td>Day of Week</td></tr><tr><td><b>mobiledayssincefirstuse</b></td><td>Days Since First Use</td></tr><tr><td><b>mobiledayssincelastuse</b></td><td>Days Since Last Use</td></tr><tr><td><b>mobiledevice</b></td><td>Device Name</td></tr><tr><td><b>mobilehourofday</b></td><td>Hour of Day</td></tr><tr><td><b>mobileinstalldate</b></td><td>First Launch Date</td></tr><tr><td><b>mobilelaunchnumber</b></td><td>Launch Number</td></tr><tr><td><b>mobileltv</b></td><td>Lifetime Value (evar)</td></tr><tr><td><b>mobileosversion</b></td><td>Operating System Version</td></tr><tr><td><b>mobileresolution</b></td><td>Resolution</td></tr><tr><td><b>monitorcolordepth</b></td><td>Monitor Color Depth</td></tr><tr><td><b>monitorresolution</b></td><td>Monitor Resolution</td></tr><tr><td><b>operatingsystem</b></td><td>Operating System</td></tr><tr><td><b>operatingsystemtype</b></td><td>Operating System Type</td></tr><tr><td><b>page</b></td><td>Page</td></tr><tr><td><b>pagedepth</b></td><td>Page Depth</td></tr><tr><td><b>pagesnotfound</b></td><td>Pages Not Found</td></tr><tr><td><b>pathlength</b></td><td>Path Length</td></tr><tr><td><b>pointofinterest</b></td><td>Point of Interest Name</td></tr><tr><td><b>pointofinterestdistance</b></td><td>Distance to Point of Interest Center</td></tr><tr><td><b>product</b></td><td>Product</td></tr><tr><td><b>prop10</b></td><td>Character Encoding (p)</td></tr><tr><td><b>prop15</b></td><td>Detailed Page Name (p)</td></tr><tr><td><b>prop17</b></td><td>Time Parting (p)</td></tr><tr><td><b>prop18</b></td><td>Days Since Last Visit (p)</td></tr><tr><td><b>prop19</b></td><td>Visit Number (p)</td></tr><tr><td><b>prop2</b></td><td>Login Name (p)</td></tr><tr><td><b>prop29</b></td><td>Omniture Report Suites (p)</td></tr><tr><td><b>prop3</b></td><td>Company (p)</td></tr><tr><td><b>prop35</b></td><td>Geo Segmentation (p)</td></tr><tr><td><b>prop36</b></td><td>Form Abandonment (p)</td></tr><tr><td><b>prop37</b></td><td>Site Search Term (p)</td></tr><tr><td><b>prop38</b></td><td>Download Type (p)</td></tr><tr><td><b>prop39</b></td><td>Download Name (p)</td></tr><tr><td><b>prop4</b></td><td>Product (p)</td></tr><tr><td><b>prop5</b></td><td>Product Version (p)</td></tr><tr><td><b>prop6</b></td><td>Data Center (p)</td></tr><tr><td><b>prop7</b></td><td>Product Environment (p)</td></tr><tr><td><b>prop9</b></td><td>Locale (p)</td></tr><tr><td><b>referrer</b></td><td>Referrer</td></tr><tr><td><b>referrertype</b></td><td>Referrer Type</td></tr><tr><td><b>referringdomain</b></td><td>Referring Domain</td></tr><tr><td><b>referringdomainoriginal</b></td><td>Original Referring Domain</td></tr><tr><td><b>reportsuite</b></td><td>Report Suite</td></tr><tr><td><b>returnfrequency</b></td><td>Return Frequency</td></tr><tr><td><b>searchengine</b></td><td>Search Engine</td></tr><tr><td><b>searchenginekeyword</b></td><td>Search Keyword</td></tr><tr><td><b>searchenginenatural</b></td><td>Natural Search Engine</td></tr><tr><td><b>searchenginenaturalkeyword</b></td><td>Natural Search Keyword</td></tr><tr><td><b>searchenginenaturalpagerank</b></td><td>Natural Search Page Rank</td></tr><tr><td><b>searchenginepaid</b></td><td>Paid Search Engine</td></tr><tr><td><b>searchenginepaidkeyword</b></td><td>Paid Search Keyword</td></tr><tr><td><b>server</b></td><td>Server</td></tr><tr><td><b>sitesection</b></td><td>Site Section</td></tr><tr><td><b>state</b></td><td>State</td></tr><tr><td><b>surveybase</b></td><td>Survey</td></tr><tr><td><b>targetactivity</b></td><td>Target Activity</td></tr><tr><td><b>targetactivityraw</b></td><td>Target Activity Raw</td></tr><tr><td><b>targetexperience</b></td><td>Target Experience</td></tr><tr><td><b>targetexperienceraw</b></td><td>Target Experience Raw</td></tr><tr><td><b>timeprior</b></td><td>Time Prior to Event</td></tr><tr><td><b>timevisit</b></td><td>Time Spent Per Visit</td></tr><tr><td><b>timezone</b></td><td>Time Zone</td></tr><tr><td><b>tntbase</b></td><td>Test&Target</td></tr><tr><td><b>topleveldomain</b></td><td>Top Level Domain</td></tr><tr><td><b>trackingcode</b></td><td>Tracking Code</td></tr><tr><td><b>visitnumber</b></td><td>Visit Number</td></tr><tr><td><b>zip</b></td><td>ZIP/Postal Code</td></tr></table>"
       ],
       "metadata": {},
       "output_type": "pyout",
       "prompt_number": 5,
       "text": [
        "<AddressableList>"
       ]
      }
     ],
     "prompt_number": 5
    },
    {
     "cell_type": "code",
     "collapsed": false,
     "input": [
      "suite.metrics"
     ],
     "language": "python",
     "metadata": {},
     "outputs": [
      {
       "html": [
        "<table><tr><td><b>ID</b></td><td><b>Title</b></td></tr><tr><td><b>averagepagedepth</b></td><td>Average Page Depth</td></tr><tr><td><b>averagetimespentonpage</b></td><td>Average Time Spent on Page</td></tr><tr><td><b>averagetimespentonsite</b></td><td>Average Time Spent on Site</td></tr><tr><td><b>averagevisitdepth</b></td><td>Average Visit Depth</td></tr><tr><td><b>bots</b></td><td>Bots</td></tr><tr><td><b>bouncerate</b></td><td>Bounce Rate</td></tr><tr><td><b>bounces</b></td><td>Bounces</td></tr><tr><td><b>cartadditions</b></td><td>Cart Additions</td></tr><tr><td><b>cartremovals</b></td><td>Cart Removals</td></tr><tr><td><b>carts</b></td><td>Carts</td></tr><tr><td><b>cartviews</b></td><td>Cart Views</td></tr><tr><td><b>checkouts</b></td><td>Checkouts</td></tr><tr><td><b>customersdaily</b></td><td>Daily Unique Customers</td></tr><tr><td><b>customersloyal</b></td><td>Loyal Customers</td></tr><tr><td><b>customersmonthly</b></td><td>Monthly Unique Customers</td></tr><tr><td><b>customersnew</b></td><td>New Customers</td></tr><tr><td><b>customersquarterly</b></td><td>Quarterly Unique Customers</td></tr><tr><td><b>customersreturn</b></td><td>Return Customers</td></tr><tr><td><b>customersweekly</b></td><td>Weekly Unique Customers</td></tr><tr><td><b>customersyearly</b></td><td>Yearly Unique Customers</td></tr><tr><td><b>entries</b></td><td>Entries</td></tr><tr><td><b>event1</b></td><td>Number of Messages Sent</td></tr><tr><td><b>event2</b></td><td>Blog Comment</td></tr><tr><td><b>event3</b></td><td>Code Gallery Download</td></tr><tr><td><b>event4</b></td><td>Code Gallery Submission</td></tr><tr><td><b>event41</b></td><td>Registration Initiation</td></tr><tr><td><b>event42</b></td><td>Registration Completion</td></tr><tr><td><b>event43</b></td><td>Profile Initiation</td></tr><tr><td><b>event44</b></td><td>Profile Completion</td></tr><tr><td><b>event45</b></td><td>Forum Post</td></tr><tr><td><b>event46</b></td><td>Forum Comment</td></tr><tr><td><b>event47</b></td><td>Documentation Comment</td></tr><tr><td><b>event48</b></td><td>Blog Comment</td></tr><tr><td><b>event49</b></td><td>Site Searches</td></tr><tr><td><b>event50</b></td><td>Code Gallery Submissions</td></tr><tr><td><b>event51</b></td><td>Downloads</td></tr><tr><td><b>exits</b></td><td>Exits</td></tr><tr><td><b>f:1004600</b></td><td>Crash Rate (Mobile)</td></tr><tr><td><b>f:1004601</b></td><td>Average Session Length (Mobile)</td></tr><tr><td><b>instances</b></td><td>Instances</td></tr><tr><td><b>mobileactioninapptime</b></td><td>Action Time In App</td></tr><tr><td><b>mobileactiontotaltime</b></td><td>Action Time Total</td></tr><tr><td><b>mobileavgprevsessionlength</b></td><td>Average Session Length (Mobile)</td></tr><tr><td><b>mobilecrashes</b></td><td>Crashes</td></tr><tr><td><b>mobilecrashrate</b></td><td>Crash Rate (Mobile)</td></tr><tr><td><b>mobileinstalls</b></td><td>First Launches</td></tr><tr><td><b>mobilelaunches</b></td><td>Launches</td></tr><tr><td><b>mobileltvtotal</b></td><td>Lifetime Value (event)</td></tr><tr><td><b>mobileprevsessionlength</b></td><td>Previous Session Length</td></tr><tr><td><b>mobileupgrades</b></td><td>Upgrades</td></tr><tr><td><b>mobileviews</b></td><td>Mobile Views</td></tr><tr><td><b>mobilevisitorsdaily</b></td><td>Mobile Daily Unique Visitors</td></tr><tr><td><b>mobilevisits</b></td><td>Mobile Visits</td></tr><tr><td><b>orders</b></td><td>Number of Messages Opened</td></tr><tr><td><b>pageviews</b></td><td>Page Views</td></tr><tr><td><b>participationevent43</b></td><td>Profile Initiation Participation</td></tr><tr><td><b>participationevent46</b></td><td>Forum Comment Participation</td></tr><tr><td><b>participationevent47</b></td><td>Documentation Comment Participation</td></tr><tr><td><b>participationevent48</b></td><td>Blog Comment Participation</td></tr><tr><td><b>reloads</b></td><td>Reloads</td></tr><tr><td><b>returnvisits</b></td><td>Return Visits</td></tr><tr><td><b>returnvisitsdaily</b></td><td>Daily Return Visits</td></tr><tr><td><b>revenue</b></td><td>Impressions</td></tr><tr><td><b>singleaccess</b></td><td>Single Access</td></tr><tr><td><b>targetconfidence</b></td><td>Target Confidence</td></tr><tr><td><b>targetconversion</b></td><td>Target Conversion</td></tr><tr><td><b>targetconversionoptional</b></td><td>Target Conversion Optional Value</td></tr><tr><td><b>targetentry</b></td><td>Target Entry</td></tr><tr><td><b>targetentryoptional</b></td><td>Target Optional Value</td></tr><tr><td><b>targetexpiration</b></td><td>Target Expiration</td></tr><tr><td><b>targetlift</b></td><td>Target Lift</td></tr><tr><td><b>totalcartadditions</b></td><td>Total Cart Additions</td></tr><tr><td><b>totalcartremovals</b></td><td>Total Cart Removals</td></tr><tr><td><b>totalcarts</b></td><td>Total Carts</td></tr><tr><td><b>totalcartviews</b></td><td>Total Cart Views</td></tr><tr><td><b>totalcheckouts</b></td><td>Total Checkouts</td></tr><tr><td><b>totalevent1</b></td><td>Total Number of Messages Sent</td></tr><tr><td><b>totalevent2</b></td><td>Total Blog Comment</td></tr><tr><td><b>totalevent3</b></td><td>Total Code Gallery Download</td></tr><tr><td><b>totalevent4</b></td><td>Total Code Gallery Submission</td></tr><tr><td><b>totalevent41</b></td><td>Total Registration Initiation</td></tr><tr><td><b>totalevent42</b></td><td>Total Registration Completion</td></tr><tr><td><b>totalevent43</b></td><td>Total Profile Initiation</td></tr><tr><td><b>totalevent44</b></td><td>Total Profile Completion</td></tr><tr><td><b>totalevent45</b></td><td>Total Forum Post</td></tr><tr><td><b>totalevent46</b></td><td>Total Forum Comment</td></tr><tr><td><b>totalevent47</b></td><td>Total Documentation Comment</td></tr><tr><td><b>totalevent48</b></td><td>Total Blog Comment</td></tr><tr><td><b>totalevent49</b></td><td>Total Site Searches</td></tr><tr><td><b>totalevent50</b></td><td>Total Code Gallery Submissions</td></tr><tr><td><b>totalevent51</b></td><td>Total Downloads</td></tr><tr><td><b>totalorders</b></td><td>Total Number of Messages Opened</td></tr><tr><td><b>totalpageviews</b></td><td>Total Page Views</td></tr><tr><td><b>totalrevenue</b></td><td>Total Impressions</td></tr><tr><td><b>totaltimespent</b></td><td>Total Time Spent</td></tr><tr><td><b>totalunits</b></td><td>Total Clicks</td></tr><tr><td><b>totalvisitorsdaily</b></td><td>Total Daily Unique Visitors</td></tr><tr><td><b>totalvisitorshourly</b></td><td>Total Hourly Unique Visitors</td></tr><tr><td><b>totalvisitorsmonthly</b></td><td>Total Monthly Unique Visitors</td></tr><tr><td><b>totalvisitorsquarterly</b></td><td>Total Quarterly Unique Visitors</td></tr><tr><td><b>totalvisitorsweekly</b></td><td>Total Weekly Unique Visitors</td></tr><tr><td><b>totalvisitorsyearly</b></td><td>Total Yearly Unique Visitors</td></tr><tr><td><b>totalvisits</b></td><td>Total Visits</td></tr><tr><td><b>uniquevisitors</b></td><td>Unique Visitors</td></tr><tr><td><b>units</b></td><td>Clicks</td></tr><tr><td><b>visitors</b></td><td>Visitors</td></tr><tr><td><b>visitorsdaily</b></td><td>Daily Unique Visitors</td></tr><tr><td><b>visitorshourly</b></td><td>Hourly Unique Visitors</td></tr><tr><td><b>visitorsmonthly</b></td><td>Monthly Unique Visitors</td></tr><tr><td><b>visitorsnew</b></td><td>New Visitors</td></tr><tr><td><b>visitorsquarterly</b></td><td>Quarterly Unique Visitors</td></tr><tr><td><b>visitorsweekly</b></td><td>Weekly Unique Visitors</td></tr><tr><td><b>visitorsyearly</b></td><td>Yearly Unique Visitors</td></tr><tr><td><b>visits</b></td><td>Visits</td></tr></table>"
       ],
       "metadata": {},
       "output_type": "pyout",
       "prompt_number": 6,
       "text": [
        "<AddressableList>"
       ]
      }
     ],
     "prompt_number": 6
    },
    {
     "cell_type": "heading",
     "level": 1,
     "metadata": {},
     "source": [
      "Running Reports"
     ]
    },
    {
     "cell_type": "markdown",
     "metadata": {},
     "source": [
      "Now that we have our report suite lets put together a report. "
     ]
    },
    {
     "cell_type": "code",
     "collapsed": false,
     "input": [
      "suite.report"
     ],
     "language": "python",
     "metadata": {},
     "outputs": [
      {
       "html": [
        "Current Report Settings</br><b>reportSuiteID</b>: omniture.devportal </br>"
       ],
       "metadata": {},
       "output_type": "pyout",
       "prompt_number": 6,
       "text": [
        "<omniture.query.Query at 0x1097d1bd0>"
       ]
      }
     ],
     "prompt_number": 6
    },
    {
     "cell_type": "markdown",
     "metadata": {},
     "source": [
      "If I want to see the raw report that is done in the API then I would just print the report out. "
     ]
    },
    {
     "cell_type": "code",
     "collapsed": false,
     "input": [
      "print suite.report"
     ],
     "language": "python",
     "metadata": {},
     "outputs": [
      {
       "output_type": "stream",
       "stream": "stdout",
       "text": [
        "{\n",
        "    \"reportDescription\": {\n",
        "        \"reportSuiteID\": \"omniture.devportal\"\n",
        "    }\n",
        "}\n"
       ]
      }
     ],
     "prompt_number": 7
    },
    {
     "cell_type": "markdown",
     "metadata": {},
     "source": [
      "Now let's run it"
     ]
    },
    {
     "cell_type": "code",
     "collapsed": false,
     "input": [
      "suite.report.run()"
     ],
     "language": "python",
     "metadata": {},
     "outputs": [
      {
       "output_type": "stream",
       "stream": "stdout",
       "text": [
        "."
       ]
      },
      {
       "output_type": "stream",
       "stream": "stdout",
       "text": [
        "."
       ]
      },
      {
       "html": [
        "<table><tr><tr><td><b>datetime<b></td><td><b>datetime_friendly<b></td><td><b>pageviews<b></td></tr><tr><td>2015-04-24 00:00:00</td><td>Fri. 24 Apr. 2015</td><td>2112</td>"
       ],
       "metadata": {},
       "output_type": "pyout",
       "prompt_number": 8,
       "text": [
        "<omniture.Report (metrics) ID pageviews                 | Name: Page Views \n",
        " (elements) ID datetime                  | Name: Date \n",
        ">"
       ]
      }
     ],
     "prompt_number": 8
    },
    {
     "cell_type": "markdown",
     "metadata": {},
     "source": [
      "That runs a basic report for today. "
     ]
    },
    {
     "cell_type": "markdown",
     "metadata": {},
     "source": [
      "As a best practice you should always set the results of a report to a variable so you can manipulate it like this. "
     ]
    },
    {
     "cell_type": "code",
     "collapsed": false,
     "input": [
      "report = suite.report.run()"
     ],
     "language": "python",
     "metadata": {},
     "outputs": [
      {
       "output_type": "stream",
       "stream": "stdout",
       "text": [
        "."
       ]
      },
      {
       "output_type": "stream",
       "stream": "stdout",
       "text": [
        "."
       ]
      }
     ],
     "prompt_number": 9
    },
    {
     "cell_type": "code",
     "collapsed": false,
     "input": [
      "report"
     ],
     "language": "python",
     "metadata": {},
     "outputs": [
      {
       "html": [
        "<table><tr><tr><td><b>datetime<b></td><td><b>datetime_friendly<b></td><td><b>pageviews<b></td></tr><tr><td>2015-04-24 00:00:00</td><td>Fri. 24 Apr. 2015</td><td>2378</td>"
       ],
       "metadata": {},
       "output_type": "pyout",
       "prompt_number": 10,
       "text": [
        "<omniture.Report (metrics) ID pageviews                 | Name: Page Views \n",
        " (elements) ID datetime                  | Name: Date \n",
        ">"
       ]
      }
     ],
     "prompt_number": 10
    },
    {
     "cell_type": "heading",
     "level": 1,
     "metadata": {},
     "source": [
      "Configuring a Report"
     ]
    },
    {
     "cell_type": "markdown",
     "metadata": {},
     "source": [
      "You can add to the report by combining methods to adjust different parameters of the report, just make sure the run method is last.  Like this "
     ]
    },
    {
     "cell_type": "heading",
     "level": 3,
     "metadata": {},
     "source": [
      "Add an Element"
     ]
    },
    {
     "cell_type": "code",
     "collapsed": false,
     "input": [
      "report = suite.report.element(\"page\").run()\n",
      "report"
     ],
     "language": "python",
     "metadata": {},
     "outputs": [
      {
       "output_type": "stream",
       "stream": "stdout",
       "text": [
        "."
       ]
      },
      {
       "html": [
        "<table><tr><tr><td><b>pageviews<b></td><td><b>page<b></td></tr><tr><td>162</td><td>DevConnection: Get Started: API Explorer</td><tr><td>129</td><td>DevConnection: Home</td><tr><td>109</td><td>Other</td><tr><td>72</td><td>DevConnection: Get Started: Content Page: Measuring and Optimizing Mobile Applications</td><tr><td>47</td><td>DevConnection: Documentation: Page: Getting Started</td><tr><td>43</td><td>DevConnection: Documentation: Page: Analytics Metrics</td><tr><td>38</td><td>DevConnection: Gallery: Code: bloodhound-app-measurement-qa-tool-1</td><tr><td>31</td><td>DevConnection: Forum: Topic: reporting</td><tr><td>31</td><td>DevConnection: Gallery: Code: app-measurement-for-ios</td><tr><td>30</td><td>DevConnection: Documentation: Page: HTTP GET Sample</td>"
       ],
       "metadata": {},
       "output_type": "pyout",
       "prompt_number": 11,
       "text": [
        "<omniture.Report (metrics) ID pageviews                 | Name: Page Views \n",
        " (elements) ID page                      | Name: Page \n",
        ">"
       ]
      }
     ],
     "prompt_number": 11
    },
    {
     "cell_type": "heading",
     "level": 3,
     "metadata": {},
     "source": [
      "Add a Metric"
     ]
    },
    {
     "cell_type": "code",
     "collapsed": false,
     "input": [
      "report = suite.report.element(\"page\").metric(\"visits\").run()\n",
      "report"
     ],
     "language": "python",
     "metadata": {},
     "outputs": [
      {
       "output_type": "stream",
       "stream": "stdout",
       "text": [
        "."
       ]
      },
      {
       "output_type": "stream",
       "stream": "stdout",
       "text": [
        "."
       ]
      },
      {
       "html": [
        "<table><tr><tr><td><b>page<b></td><td><b>visits<b></td></tr><tr><td>DevConnection: Home</td><td>54</td><tr><td>DevConnection: Get Started: API Explorer</td><td>52</td><tr><td>DevConnection: Get Started: Content Page: Measuring and Optimizing Mobile Applications</td><td>46</td><tr><td>Other</td><td>35</td><tr><td>DevConnection: Documentation: Page: Getting Started</td><td>27</td><tr><td>DevConnection: Documentation: Page: Analytics Metrics</td><td>26</td><tr><td>DevConnection: Documentation: Page: Overview</td><td>26</td><tr><td>DevConnection: Documentation: Page: HTTP GET Sample</td><td>23</td><tr><td>DevConnection: Gallery: Code: bloodhound-app-measurement-qa-tool-1</td><td>20</td><tr><td>DevConnection: Documentation: Page: Analytics Elements</td><td>18</td>"
       ],
       "metadata": {},
       "output_type": "pyout",
       "prompt_number": 13,
       "text": [
        "<omniture.Report (metrics) ID visits                    | Name: Visits \n",
        " (elements) ID page                      | Name: Page \n",
        ">"
       ]
      }
     ],
     "prompt_number": 13
    },
    {
     "cell_type": "heading",
     "level": 3,
     "metadata": {},
     "source": [
      "Add two Metrics"
     ]
    },
    {
     "cell_type": "code",
     "collapsed": false,
     "input": [
      "report = suite.report.element(\"page\").metric(\"visits\").metric('visitors').run()\n",
      "report"
     ],
     "language": "python",
     "metadata": {},
     "outputs": [
      {
       "output_type": "stream",
       "stream": "stdout",
       "text": [
        "."
       ]
      },
      {
       "html": [
        "<table><tr><tr><td><b>visitors<b></td><td><b>page<b></td><td><b>visits<b></td></tr><tr><td>50</td><td>DevConnection: Home</td><td>54</td><tr><td>45</td><td>DevConnection: Get Started: API Explorer</td><td>52</td><tr><td>43</td><td>DevConnection: Get Started: Content Page: Measuring and Optimizing Mobile Applications</td><td>46</td><tr><td>34</td><td>Other</td><td>35</td><tr><td>25</td><td>DevConnection: Documentation: Page: Getting Started</td><td>27</td><tr><td>25</td><td>DevConnection: Documentation: Page: Analytics Metrics</td><td>26</td><tr><td>24</td><td>DevConnection: Documentation: Page: Overview</td><td>26</td><tr><td>23</td><td>DevConnection: Documentation: Page: HTTP GET Sample</td><td>23</td><tr><td>18</td><td>DevConnection: Gallery: Code: bloodhound-app-measurement-qa-tool-1</td><td>20</td><tr><td>16</td><td>DevConnection: Documentation: Page: Analytics Elements</td><td>18</td>"
       ],
       "metadata": {},
       "output_type": "pyout",
       "prompt_number": 14,
       "text": [
        "<omniture.Report (metrics) ID visits                    | Name: Visits \n",
        ", ID visitors                  | Name: Visitors \n",
        " (elements) ID page                      | Name: Page \n",
        ">"
       ]
      }
     ],
     "prompt_number": 14
    },
    {
     "cell_type": "code",
     "collapsed": false,
     "input": [
      "print report.data"
     ],
     "language": "python",
     "metadata": {},
     "outputs": [
      {
       "output_type": "stream",
       "stream": "stdout",
       "text": [
        "[{'visitors': 50, 'page': 'DevConnection: Home', 'visits': 54}, {'visitors': 45, 'page': 'DevConnection: Get Started: API Explorer', 'visits': 52}, {'visitors': 43, 'page': 'DevConnection: Get Started: Content Page: Measuring and Optimizing Mobile Applications', 'visits': 46}, {'visitors': 34, 'page': 'Other', 'visits': 35}, {'visitors': 25, 'page': 'DevConnection: Documentation: Page: Getting Started', 'visits': 27}, {'visitors': 25, 'page': 'DevConnection: Documentation: Page: Analytics Metrics', 'visits': 26}, {'visitors': 24, 'page': 'DevConnection: Documentation: Page: Overview', 'visits': 26}, {'visitors': 23, 'page': 'DevConnection: Documentation: Page: HTTP GET Sample', 'visits': 23}, {'visitors': 18, 'page': 'DevConnection: Gallery: Code: bloodhound-app-measurement-qa-tool-1', 'visits': 20}, {'visitors': 16, 'page': 'DevConnection: Documentation: Page: Analytics Elements', 'visits': 18}]\n"
       ]
      }
     ],
     "prompt_number": 15
    },
    {
     "cell_type": "heading",
     "level": 3,
     "metadata": {},
     "source": [
      "Add a Date Range"
     ]
    },
    {
     "cell_type": "code",
     "collapsed": false,
     "input": [
      "report = suite.report.element(\"page\").metric(\"visits\").metric('visitors').range('2014-12-01','2014-12-07').run()\n",
      "report"
     ],
     "language": "python",
     "metadata": {},
     "outputs": [
      {
       "output_type": "stream",
       "stream": "stdout",
       "text": [
        "."
       ]
      },
      {
       "html": [
        "<table><tr><tr><td><b>visitors<b></td><td><b>page<b></td><td><b>visits<b></td></tr><tr><td>555</td><td>DevConnection: Home</td><td>778</td><tr><td>394</td><td>DevConnection: Get Started: API Explorer</td><td>637</td><tr><td>425</td><td>DevConnection: Get Started: Content Page: Measuring and Optimizing Mobile Applications</td><td>508</td><tr><td>281</td><td>Other</td><td>368</td><tr><td>289</td><td>DevConnection: Documentation</td><td>347</td><tr><td>251</td><td>DevConnection: Documentation: Page: HTTP GET Sample</td><td>261</td><tr><td>229</td><td>DevConnection: Get Started: Content Page: Report Builder</td><td>246</td><tr><td>170</td><td>DevConnection: Documentation: Page: Methods</td><td>225</td><tr><td>198</td><td>DevConnection: Documentation: Page: Analytics Reporting API</td><td>222</td><tr><td>162</td><td>DevConnection: Documentation: Page: Getting Started</td><td>201</td>"
       ],
       "metadata": {},
       "output_type": "pyout",
       "prompt_number": 16,
       "text": [
        "<omniture.Report (metrics) ID visits                    | Name: Visits \n",
        ", ID visitors                  | Name: Visitors \n",
        " (elements) ID page                      | Name: Page \n",
        ">"
       ]
      }
     ],
     "prompt_number": 16
    },
    {
     "cell_type": "heading",
     "level": 3,
     "metadata": {},
     "source": [
      "Add a Date Granularity"
     ]
    },
    {
     "cell_type": "code",
     "collapsed": false,
     "input": [
      "report = suite.report.element(\"page\").metric(\"visits\").metric('visitors').range('2015-02-01','2015-02-07').granularity('day').run()\n",
      "report"
     ],
     "language": "python",
     "metadata": {},
     "outputs": [
      {
       "output_type": "stream",
       "stream": "stdout",
       "text": [
        "."
       ]
      },
      {
       "output_type": "stream",
       "stream": "stdout",
       "text": [
        "."
       ]
      },
      {
       "output_type": "stream",
       "stream": "stdout",
       "text": [
        "."
       ]
      },
      {
       "html": [
        "<table><tr><tr><td><b>datetime<b></td><td><b>visitors<b></td><td><b>datetime_friendly<b></td><td><b>page<b></td><td><b>visits<b></td></tr><tr><td>2015-02-01 00:00:00</td><td>29</td><td>Sun.  1 Feb. 2015</td><td>DevConnection: Get Started: API Explorer</td><td>34</td><tr><td>2015-02-01 00:00:00</td><td>22</td><td>Sun.  1 Feb. 2015</td><td>DevConnection: Home</td><td>23</td><tr><td>2015-02-01 00:00:00</td><td>25</td><td>Sun.  1 Feb. 2015</td><td>DevConnection: Get Started: Content Page: Measuring and Optimizing Mobile Applications</td><td>26</td><tr><td>2015-02-01 00:00:00</td><td>12</td><td>Sun.  1 Feb. 2015</td><td>DevConnection: Documentation: Page: Getting Started</td><td>14</td><tr><td>2015-02-01 00:00:00</td><td>21</td><td>Sun.  1 Feb. 2015</td><td>Other</td><td>22</td><tr><td>2015-02-01 00:00:00</td><td>15</td><td>Sun.  1 Feb. 2015</td><td>DevConnection: Get Started: Content Page: Report Builder</td><td>15</td><tr><td>2015-02-01 00:00:00</td><td>26</td><td>Sun.  1 Feb. 2015</td><td>DevConnection: Documentation: Page: HTTP GET Sample</td><td>27</td><tr><td>2015-02-01 00:00:00</td><td>5</td><td>Sun.  1 Feb. 2015</td><td>DevConnection: Documentation: Page: Overview</td><td>5</td><tr><td>2015-02-01 00:00:00</td><td>11</td><td>Sun.  1 Feb. 2015</td><td>DevConnection: Documentation</td><td>12</td><tr><td>2015-02-01 00:00:00</td><td>2</td><td>Sun.  1 Feb. 2015</td><td>DevConnection: Documentation: Page: What's New</td><td>2</td><tr><td>2015-02-02 00:00:00</td><td>136</td><td>Mon.  2 Feb. 2015</td><td>DevConnection: Get Started: API Explorer</td><td>165</td><tr><td>2015-02-02 00:00:00</td><td>117</td><td>Mon.  2 Feb. 2015</td><td>DevConnection: Home</td><td>132</td><tr><td>2015-02-02 00:00:00</td><td>91</td><td>Mon.  2 Feb. 2015</td><td>DevConnection: Get Started: Content Page: Measuring and Optimizing Mobile Applications</td><td>96</td><tr><td>2015-02-02 00:00:00</td><td>47</td><td>Mon.  2 Feb. 2015</td><td>DevConnection: Documentation: Page: Getting Started</td><td>55</td><tr><td>2015-02-02 00:00:00</td><td>56</td><td>Mon.  2 Feb. 2015</td><td>Other</td><td>56</td><tr><td>2015-02-02 00:00:00</td><td>59</td><td>Mon.  2 Feb. 2015</td><td>DevConnection: Get Started: Content Page: Report Builder</td><td>60</td><tr><td>2015-02-02 00:00:00</td><td>36</td><td>Mon.  2 Feb. 2015</td><td>DevConnection: Documentation: Page: HTTP GET Sample</td><td>38</td><tr><td>2015-02-02 00:00:00</td><td>34</td><td>Mon.  2 Feb. 2015</td><td>DevConnection: Documentation: Page: Overview</td><td>36</td><tr><td>2015-02-02 00:00:00</td><td>33</td><td>Mon.  2 Feb. 2015</td><td>DevConnection: Documentation</td><td>33</td><tr><td>2015-02-02 00:00:00</td><td>33</td><td>Mon.  2 Feb. 2015</td><td>DevConnection: Documentation: Page: What's New</td><td>34</td><tr><td>2015-02-03 00:00:00</td><td>142</td><td>Tue.  3 Feb. 2015</td><td>DevConnection: Get Started: API Explorer</td><td>174</td><tr><td>2015-02-03 00:00:00</td><td>132</td><td>Tue.  3 Feb. 2015</td><td>DevConnection: Home</td><td>149</td><tr><td>2015-02-03 00:00:00</td><td>106</td><td>Tue.  3 Feb. 2015</td><td>DevConnection: Get Started: Content Page: Measuring and Optimizing Mobile Applications</td><td>116</td><tr><td>2015-02-03 00:00:00</td><td>84</td><td>Tue.  3 Feb. 2015</td><td>DevConnection: Documentation: Page: Getting Started</td><td>91</td><tr><td>2015-02-03 00:00:00</td><td>71</td><td>Tue.  3 Feb. 2015</td><td>Other</td><td>76</td><tr><td>2015-02-03 00:00:00</td><td>61</td><td>Tue.  3 Feb. 2015</td><td>DevConnection: Get Started: Content Page: Report Builder</td><td>62</td><tr><td>2015-02-03 00:00:00</td><td>37</td><td>Tue.  3 Feb. 2015</td><td>DevConnection: Documentation: Page: HTTP GET Sample</td><td>37</td><tr><td>2015-02-03 00:00:00</td><td>48</td><td>Tue.  3 Feb. 2015</td><td>DevConnection: Documentation: Page: Overview</td><td>50</td><tr><td>2015-02-03 00:00:00</td><td>45</td><td>Tue.  3 Feb. 2015</td><td>DevConnection: Documentation</td><td>45</td><tr><td>2015-02-03 00:00:00</td><td>48</td><td>Tue.  3 Feb. 2015</td><td>DevConnection: Documentation: Page: What's New</td><td>51</td><tr><td>2015-02-04 00:00:00</td><td>144</td><td>Wed.  4 Feb. 2015</td><td>DevConnection: Get Started: API Explorer</td><td>176</td><tr><td>2015-02-04 00:00:00</td><td>146</td><td>Wed.  4 Feb. 2015</td><td>DevConnection: Home</td><td>154</td><tr><td>2015-02-04 00:00:00</td><td>99</td><td>Wed.  4 Feb. 2015</td><td>DevConnection: Get Started: Content Page: Measuring and Optimizing Mobile Applications</td><td>105</td><tr><td>2015-02-04 00:00:00</td><td>66</td><td>Wed.  4 Feb. 2015</td><td>DevConnection: Documentation: Page: Getting Started</td><td>80</td><tr><td>2015-02-04 00:00:00</td><td>61</td><td>Wed.  4 Feb. 2015</td><td>Other</td><td>69</td><tr><td>2015-02-04 00:00:00</td><td>47</td><td>Wed.  4 Feb. 2015</td><td>DevConnection: Get Started: Content Page: Report Builder</td><td>47</td><tr><td>2015-02-04 00:00:00</td><td>50</td><td>Wed.  4 Feb. 2015</td><td>DevConnection: Documentation: Page: HTTP GET Sample</td><td>51</td><tr><td>2015-02-04 00:00:00</td><td>47</td><td>Wed.  4 Feb. 2015</td><td>DevConnection: Documentation: Page: Overview</td><td>53</td><tr><td>2015-02-04 00:00:00</td><td>48</td><td>Wed.  4 Feb. 2015</td><td>DevConnection: Documentation</td><td>54</td><tr><td>2015-02-04 00:00:00</td><td>34</td><td>Wed.  4 Feb. 2015</td><td>DevConnection: Documentation: Page: What's New</td><td>39</td><tr><td>2015-02-05 00:00:00</td><td>150</td><td>Thu.  5 Feb. 2015</td><td>DevConnection: Get Started: API Explorer</td><td>177</td><tr><td>2015-02-05 00:00:00</td><td>147</td><td>Thu.  5 Feb. 2015</td><td>DevConnection: Home</td><td>174</td><tr><td>2015-02-05 00:00:00</td><td>88</td><td>Thu.  5 Feb. 2015</td><td>DevConnection: Get Started: Content Page: Measuring and Optimizing Mobile Applications</td><td>97</td><tr><td>2015-02-05 00:00:00</td><td>71</td><td>Thu.  5 Feb. 2015</td><td>DevConnection: Documentation: Page: Getting Started</td><td>74</td><tr><td>2015-02-05 00:00:00</td><td>47</td><td>Thu.  5 Feb. 2015</td><td>Other</td><td>56</td><tr><td>2015-02-05 00:00:00</td><td>48</td><td>Thu.  5 Feb. 2015</td><td>DevConnection: Get Started: Content Page: Report Builder</td><td>53</td><tr><td>2015-02-05 00:00:00</td><td>41</td><td>Thu.  5 Feb. 2015</td><td>DevConnection: Documentation: Page: HTTP GET Sample</td><td>41</td><tr><td>2015-02-05 00:00:00</td><td>46</td><td>Thu.  5 Feb. 2015</td><td>DevConnection: Documentation: Page: Overview</td><td>47</td><tr><td>2015-02-05 00:00:00</td><td>44</td><td>Thu.  5 Feb. 2015</td><td>DevConnection: Documentation</td><td>46</td><tr><td>2015-02-05 00:00:00</td><td>36</td><td>Thu.  5 Feb. 2015</td><td>DevConnection: Documentation: Page: What's New</td><td>38</td><tr><td>2015-02-06 00:00:00</td><td>132</td><td>Fri.  6 Feb. 2015</td><td>DevConnection: Get Started: API Explorer</td><td>163</td><tr><td>2015-02-06 00:00:00</td><td>123</td><td>Fri.  6 Feb. 2015</td><td>DevConnection: Home</td><td>135</td><tr><td>2015-02-06 00:00:00</td><td>56</td><td>Fri.  6 Feb. 2015</td><td>DevConnection: Get Started: Content Page: Measuring and Optimizing Mobile Applications</td><td>60</td><tr><td>2015-02-06 00:00:00</td><td>61</td><td>Fri.  6 Feb. 2015</td><td>DevConnection: Documentation: Page: Getting Started</td><td>71</td><tr><td>2015-02-06 00:00:00</td><td>59</td><td>Fri.  6 Feb. 2015</td><td>Other</td><td>70</td><tr><td>2015-02-06 00:00:00</td><td>49</td><td>Fri.  6 Feb. 2015</td><td>DevConnection: Get Started: Content Page: Report Builder</td><td>53</td><tr><td>2015-02-06 00:00:00</td><td>32</td><td>Fri.  6 Feb. 2015</td><td>DevConnection: Documentation: Page: HTTP GET Sample</td><td>33</td><tr><td>2015-02-06 00:00:00</td><td>35</td><td>Fri.  6 Feb. 2015</td><td>DevConnection: Documentation: Page: Overview</td><td>42</td><tr><td>2015-02-06 00:00:00</td><td>38</td><td>Fri.  6 Feb. 2015</td><td>DevConnection: Documentation</td><td>41</td><tr><td>2015-02-06 00:00:00</td><td>23</td><td>Fri.  6 Feb. 2015</td><td>DevConnection: Documentation: Page: What's New</td><td>25</td><tr><td>2015-02-07 00:00:00</td><td>18</td><td>Sat.  7 Feb. 2015</td><td>DevConnection: Get Started: API Explorer</td><td>25</td><tr><td>2015-02-07 00:00:00</td><td>13</td><td>Sat.  7 Feb. 2015</td><td>DevConnection: Home</td><td>14</td><tr><td>2015-02-07 00:00:00</td><td>11</td><td>Sat.  7 Feb. 2015</td><td>DevConnection: Get Started: Content Page: Measuring and Optimizing Mobile Applications</td><td>12</td><tr><td>2015-02-07 00:00:00</td><td>5</td><td>Sat.  7 Feb. 2015</td><td>DevConnection: Documentation: Page: Getting Started</td><td>5</td><tr><td>2015-02-07 00:00:00</td><td>16</td><td>Sat.  7 Feb. 2015</td><td>Other</td><td>16</td><tr><td>2015-02-07 00:00:00</td><td>3</td><td>Sat.  7 Feb. 2015</td><td>DevConnection: Get Started: Content Page: Report Builder</td><td>3</td><tr><td>2015-02-07 00:00:00</td><td>18</td><td>Sat.  7 Feb. 2015</td><td>DevConnection: Documentation: Page: HTTP GET Sample</td><td>18</td><tr><td>2015-02-07 00:00:00</td><td>4</td><td>Sat.  7 Feb. 2015</td><td>DevConnection: Documentation: Page: Overview</td><td>4</td><tr><td>2015-02-07 00:00:00</td><td>2</td><td>Sat.  7 Feb. 2015</td><td>DevConnection: Documentation</td><td>2</td><tr><td>2015-02-07 00:00:00</td><td>3</td><td>Sat.  7 Feb. 2015</td><td>DevConnection: Documentation: Page: What's New</td><td>3</td>"
       ],
       "metadata": {},
       "output_type": "pyout",
       "prompt_number": 17,
       "text": [
        "<omniture.Report (metrics) ID visits                    | Name: Visits \n",
        ", ID visitors                  | Name: Visitors \n",
        " (elements) ID page                      | Name: Page \n",
        ">"
       ]
      }
     ],
     "prompt_number": 17
    },
    {
     "cell_type": "markdown",
     "metadata": {},
     "source": [
      "If the query starts getting too long you can put them on multiple lines you will just need to put a backslash at the end of each line like so"
     ]
    },
    {
     "cell_type": "code",
     "collapsed": false,
     "input": [
      "report = suite.report\\\n",
      "    .element(\"page\")\\\n",
      "    .metric(\"visits\")\\\n",
      "    .metric('visitors')\\\n",
      "    .range('2014-12-01','2014-12-07')\\\n",
      "    .granularity('day')\\\n",
      "    .run()\n",
      "report"
     ],
     "language": "python",
     "metadata": {},
     "outputs": [
      {
       "output_type": "stream",
       "stream": "stdout",
       "text": [
        "."
       ]
      },
      {
       "html": [
        "<table><tr><tr><td><b>datetime<b></td><td><b>visitors<b></td><td><b>datetime_friendly<b></td><td><b>page<b></td><td><b>visits<b></td></tr><tr><td>2014-12-01 00:00:00</td><td>138</td><td>Mon.  1 Dec. 2014</td><td>DevConnection: Home</td><td>168</td><tr><td>2014-12-01 00:00:00</td><td>100</td><td>Mon.  1 Dec. 2014</td><td>DevConnection: Get Started: API Explorer</td><td>120</td><tr><td>2014-12-01 00:00:00</td><td>85</td><td>Mon.  1 Dec. 2014</td><td>DevConnection: Get Started: Content Page: Measuring and Optimizing Mobile Applications</td><td>97</td><tr><td>2014-12-01 00:00:00</td><td>71</td><td>Mon.  1 Dec. 2014</td><td>Other</td><td>88</td><tr><td>2014-12-01 00:00:00</td><td>65</td><td>Mon.  1 Dec. 2014</td><td>DevConnection: Documentation</td><td>80</td><tr><td>2014-12-01 00:00:00</td><td>51</td><td>Mon.  1 Dec. 2014</td><td>DevConnection: Documentation: Page: HTTP GET Sample</td><td>52</td><tr><td>2014-12-01 00:00:00</td><td>51</td><td>Mon.  1 Dec. 2014</td><td>DevConnection: Get Started: Content Page: Report Builder</td><td>52</td><tr><td>2014-12-01 00:00:00</td><td>38</td><td>Mon.  1 Dec. 2014</td><td>DevConnection: Documentation: Page: Methods</td><td>44</td><tr><td>2014-12-01 00:00:00</td><td>44</td><td>Mon.  1 Dec. 2014</td><td>DevConnection: Documentation: Page: Analytics Reporting API</td><td>47</td><tr><td>2014-12-01 00:00:00</td><td>32</td><td>Mon.  1 Dec. 2014</td><td>DevConnection: Documentation: Page: Getting Started</td><td>34</td><tr><td>2014-12-02 00:00:00</td><td>117</td><td>Tue.  2 Dec. 2014</td><td>DevConnection: Home</td><td>133</td><tr><td>2014-12-02 00:00:00</td><td>80</td><td>Tue.  2 Dec. 2014</td><td>DevConnection: Get Started: API Explorer</td><td>102</td><tr><td>2014-12-02 00:00:00</td><td>100</td><td>Tue.  2 Dec. 2014</td><td>DevConnection: Get Started: Content Page: Measuring and Optimizing Mobile Applications</td><td>110</td><tr><td>2014-12-02 00:00:00</td><td>59</td><td>Tue.  2 Dec. 2014</td><td>Other</td><td>63</td><tr><td>2014-12-02 00:00:00</td><td>66</td><td>Tue.  2 Dec. 2014</td><td>DevConnection: Documentation</td><td>67</td><tr><td>2014-12-02 00:00:00</td><td>43</td><td>Tue.  2 Dec. 2014</td><td>DevConnection: Documentation: Page: HTTP GET Sample</td><td>44</td><tr><td>2014-12-02 00:00:00</td><td>46</td><td>Tue.  2 Dec. 2014</td><td>DevConnection: Get Started: Content Page: Report Builder</td><td>48</td><tr><td>2014-12-02 00:00:00</td><td>36</td><td>Tue.  2 Dec. 2014</td><td>DevConnection: Documentation: Page: Methods</td><td>42</td><tr><td>2014-12-02 00:00:00</td><td>44</td><td>Tue.  2 Dec. 2014</td><td>DevConnection: Documentation: Page: Analytics Reporting API</td><td>47</td><tr><td>2014-12-02 00:00:00</td><td>25</td><td>Tue.  2 Dec. 2014</td><td>DevConnection: Documentation: Page: Getting Started</td><td>29</td><tr><td>2014-12-03 00:00:00</td><td>138</td><td>Wed.  3 Dec. 2014</td><td>DevConnection: Home</td><td>164</td><tr><td>2014-12-03 00:00:00</td><td>112</td><td>Wed.  3 Dec. 2014</td><td>DevConnection: Get Started: API Explorer</td><td>140</td><tr><td>2014-12-03 00:00:00</td><td>101</td><td>Wed.  3 Dec. 2014</td><td>DevConnection: Get Started: Content Page: Measuring and Optimizing Mobile Applications</td><td>105</td><tr><td>2014-12-03 00:00:00</td><td>69</td><td>Wed.  3 Dec. 2014</td><td>Other</td><td>74</td><tr><td>2014-12-03 00:00:00</td><td>65</td><td>Wed.  3 Dec. 2014</td><td>DevConnection: Documentation</td><td>67</td><tr><td>2014-12-03 00:00:00</td><td>45</td><td>Wed.  3 Dec. 2014</td><td>DevConnection: Documentation: Page: HTTP GET Sample</td><td>46</td><tr><td>2014-12-03 00:00:00</td><td>44</td><td>Wed.  3 Dec. 2014</td><td>DevConnection: Get Started: Content Page: Report Builder</td><td>47</td><tr><td>2014-12-03 00:00:00</td><td>35</td><td>Wed.  3 Dec. 2014</td><td>DevConnection: Documentation: Page: Methods</td><td>38</td><tr><td>2014-12-03 00:00:00</td><td>46</td><td>Wed.  3 Dec. 2014</td><td>DevConnection: Documentation: Page: Analytics Reporting API</td><td>49</td><tr><td>2014-12-03 00:00:00</td><td>43</td><td>Wed.  3 Dec. 2014</td><td>DevConnection: Documentation: Page: Getting Started</td><td>45</td><tr><td>2014-12-04 00:00:00</td><td>132</td><td>Thu.  4 Dec. 2014</td><td>DevConnection: Home</td><td>155</td><tr><td>2014-12-04 00:00:00</td><td>113</td><td>Thu.  4 Dec. 2014</td><td>DevConnection: Get Started: API Explorer</td><td>141</td><tr><td>2014-12-04 00:00:00</td><td>91</td><td>Thu.  4 Dec. 2014</td><td>DevConnection: Get Started: Content Page: Measuring and Optimizing Mobile Applications</td><td>103</td><tr><td>2014-12-04 00:00:00</td><td>72</td><td>Thu.  4 Dec. 2014</td><td>Other</td><td>84</td><tr><td>2014-12-04 00:00:00</td><td>63</td><td>Thu.  4 Dec. 2014</td><td>DevConnection: Documentation</td><td>70</td><tr><td>2014-12-04 00:00:00</td><td>45</td><td>Thu.  4 Dec. 2014</td><td>DevConnection: Documentation: Page: HTTP GET Sample</td><td>45</td><tr><td>2014-12-04 00:00:00</td><td>55</td><td>Thu.  4 Dec. 2014</td><td>DevConnection: Get Started: Content Page: Report Builder</td><td>58</td><tr><td>2014-12-04 00:00:00</td><td>41</td><td>Thu.  4 Dec. 2014</td><td>DevConnection: Documentation: Page: Methods</td><td>48</td><tr><td>2014-12-04 00:00:00</td><td>32</td><td>Thu.  4 Dec. 2014</td><td>DevConnection: Documentation: Page: Analytics Reporting API</td><td>34</td><tr><td>2014-12-04 00:00:00</td><td>46</td><td>Thu.  4 Dec. 2014</td><td>DevConnection: Documentation: Page: Getting Started</td><td>52</td><tr><td>2014-12-05 00:00:00</td><td>106</td><td>Fri.  5 Dec. 2014</td><td>DevConnection: Home</td><td>114</td><tr><td>2014-12-05 00:00:00</td><td>83</td><td>Fri.  5 Dec. 2014</td><td>DevConnection: Get Started: API Explorer</td><td>94</td><tr><td>2014-12-05 00:00:00</td><td>61</td><td>Fri.  5 Dec. 2014</td><td>DevConnection: Get Started: Content Page: Measuring and Optimizing Mobile Applications</td><td>65</td><tr><td>2014-12-05 00:00:00</td><td>42</td><td>Fri.  5 Dec. 2014</td><td>Other</td><td>43</td><tr><td>2014-12-05 00:00:00</td><td>47</td><td>Fri.  5 Dec. 2014</td><td>DevConnection: Documentation</td><td>50</td><tr><td>2014-12-05 00:00:00</td><td>33</td><td>Fri.  5 Dec. 2014</td><td>DevConnection: Documentation: Page: HTTP GET Sample</td><td>35</td><tr><td>2014-12-05 00:00:00</td><td>26</td><td>Fri.  5 Dec. 2014</td><td>DevConnection: Get Started: Content Page: Report Builder</td><td>26</td><tr><td>2014-12-05 00:00:00</td><td>36</td><td>Fri.  5 Dec. 2014</td><td>DevConnection: Documentation: Page: Methods</td><td>38</td><tr><td>2014-12-05 00:00:00</td><td>32</td><td>Fri.  5 Dec. 2014</td><td>DevConnection: Documentation: Page: Analytics Reporting API</td><td>33</td><tr><td>2014-12-05 00:00:00</td><td>27</td><td>Fri.  5 Dec. 2014</td><td>DevConnection: Documentation: Page: Getting Started</td><td>29</td><tr><td>2014-12-06 00:00:00</td><td>12</td><td>Sat.  6 Dec. 2014</td><td>DevConnection: Home</td><td>16</td><tr><td>2014-12-06 00:00:00</td><td>9</td><td>Sat.  6 Dec. 2014</td><td>DevConnection: Get Started: API Explorer</td><td>9</td><tr><td>2014-12-06 00:00:00</td><td>9</td><td>Sat.  6 Dec. 2014</td><td>DevConnection: Get Started: Content Page: Measuring and Optimizing Mobile Applications</td><td>9</td><tr><td>2014-12-06 00:00:00</td><td>5</td><td>Sat.  6 Dec. 2014</td><td>Other</td><td>5</td><tr><td>2014-12-06 00:00:00</td><td>2</td><td>Sat.  6 Dec. 2014</td><td>DevConnection: Documentation</td><td>2</td><tr><td>2014-12-06 00:00:00</td><td>15</td><td>Sat.  6 Dec. 2014</td><td>DevConnection: Documentation: Page: HTTP GET Sample</td><td>15</td><tr><td>2014-12-06 00:00:00</td><td>4</td><td>Sat.  6 Dec. 2014</td><td>DevConnection: Get Started: Content Page: Report Builder</td><td>4</td><tr><td>2014-12-06 00:00:00</td><td>2</td><td>Sat.  6 Dec. 2014</td><td>DevConnection: Documentation: Page: Methods</td><td>3</td><tr><td>2014-12-06 00:00:00</td><td>1</td><td>Sat.  6 Dec. 2014</td><td>DevConnection: Documentation: Page: Analytics Reporting API</td><td>1</td><tr><td>2014-12-06 00:00:00</td><td>1</td><td>Sat.  6 Dec. 2014</td><td>DevConnection: Documentation: Page: Getting Started</td><td>1</td><tr><td>2014-12-07 00:00:00</td><td>25</td><td>Sun.  7 Dec. 2014</td><td>DevConnection: Home</td><td>29</td><tr><td>2014-12-07 00:00:00</td><td>27</td><td>Sun.  7 Dec. 2014</td><td>DevConnection: Get Started: API Explorer</td><td>31</td><tr><td>2014-12-07 00:00:00</td><td>21</td><td>Sun.  7 Dec. 2014</td><td>DevConnection: Get Started: Content Page: Measuring and Optimizing Mobile Applications</td><td>21</td><tr><td>2014-12-07 00:00:00</td><td>12</td><td>Sun.  7 Dec. 2014</td><td>Other</td><td>13</td><tr><td>2014-12-07 00:00:00</td><td>12</td><td>Sun.  7 Dec. 2014</td><td>DevConnection: Documentation</td><td>12</td><tr><td>2014-12-07 00:00:00</td><td>23</td><td>Sun.  7 Dec. 2014</td><td>DevConnection: Documentation: Page: HTTP GET Sample</td><td>24</td><tr><td>2014-12-07 00:00:00</td><td>11</td><td>Sun.  7 Dec. 2014</td><td>DevConnection: Get Started: Content Page: Report Builder</td><td>11</td><tr><td>2014-12-07 00:00:00</td><td>12</td><td>Sun.  7 Dec. 2014</td><td>DevConnection: Documentation: Page: Methods</td><td>13</td><tr><td>2014-12-07 00:00:00</td><td>11</td><td>Sun.  7 Dec. 2014</td><td>DevConnection: Documentation: Page: Analytics Reporting API</td><td>11</td><tr><td>2014-12-07 00:00:00</td><td>9</td><td>Sun.  7 Dec. 2014</td><td>DevConnection: Documentation: Page: Getting Started</td><td>11</td>"
       ],
       "metadata": {},
       "output_type": "pyout",
       "prompt_number": 18,
       "text": [
        "<omniture.Report (metrics) ID visits                    | Name: Visits \n",
        ", ID visitors                  | Name: Visitors \n",
        " (elements) ID page                      | Name: Page \n",
        ">"
       ]
      }
     ],
     "prompt_number": 18
    },
    {
     "cell_type": "heading",
     "level": 1,
     "metadata": {},
     "source": [
      "Add a Breakdown"
     ]
    },
    {
     "cell_type": "code",
     "collapsed": false,
     "input": [
      "report = suite.report\\\n",
      "    .element(\"page\")\\\n",
      "    .breakdown(\"browser\")\\\n",
      "    .metric(\"visits\")\\\n",
      "    .metric('visitors')\\\n",
      "    .range('2014-12-01','2014-12-07')\\\n",
      "    .granularity('day')\\\n",
      "    .run()\n",
      "report"
     ],
     "language": "python",
     "metadata": {},
     "outputs": [
      {
       "output_type": "stream",
       "stream": "stdout",
       "text": [
        "."
       ]
      },
      {
       "output_type": "stream",
       "stream": "stdout",
       "text": [
        "."
       ]
      },
      {
       "output_type": "stream",
       "stream": "stdout",
       "text": [
        "."
       ]
      },
      {
       "html": [
        "<table><tr><tr><td><b>datetime<b></td><td><b>datetime_friendly<b></td><td><b>visits<b></td><td><b>visitors<b></td><td><b>page<b></td><td><b>browser<b></td></tr><tr><td>2014-12-01 00:00:00</td><td>Mon.  1 Dec. 2014</td><td>83</td><td>72</td><td>DevConnection: Home</td><td>Google Chrome (unknown version)</td><tr><td>2014-12-01 00:00:00</td><td>Mon.  1 Dec. 2014</td><td>48</td><td>36</td><td>DevConnection: Home</td><td>Mozilla Firefox (unknown version)</td><tr><td>2014-12-01 00:00:00</td><td>Mon.  1 Dec. 2014</td><td>13</td><td>11</td><td>DevConnection: Home</td><td>Google Chrome 38.0</td><tr><td>2014-12-01 00:00:00</td><td>Mon.  1 Dec. 2014</td><td>5</td><td>3</td><td>DevConnection: Home</td><td>Safari 8.0</td><tr><td>2014-12-01 00:00:00</td><td>Mon.  1 Dec. 2014</td><td>3</td><td>3</td><td>DevConnection: Home</td><td>Microsoft Internet Explorer 8</td><tr><td>2014-12-01 00:00:00</td><td>Mon.  1 Dec. 2014</td><td>3</td><td>2</td><td>DevConnection: Home</td><td>Microsoft Internet Explorer 11</td><tr><td>2014-12-01 00:00:00</td><td>Mon.  1 Dec. 2014</td><td>2</td><td>2</td><td>DevConnection: Home</td><td>Mozilla Firefox 31.0</td><tr><td>2014-12-01 00:00:00</td><td>Mon.  1 Dec. 2014</td><td>2</td><td>1</td><td>DevConnection: Home</td><td>Safari 0.8.2</td><tr><td>2014-12-01 00:00:00</td><td>Mon.  1 Dec. 2014</td><td>1</td><td>1</td><td>DevConnection: Home</td><td>Chrome Mobile 39.0.2171</td><tr><td>2014-12-01 00:00:00</td><td>Mon.  1 Dec. 2014</td><td>1</td><td>1</td><td>DevConnection: Home</td><td>Google Chrome 36.0</td><tr><td>2014-12-01 00:00:00</td><td>Mon.  1 Dec. 2014</td><td>70</td><td>55</td><td>DevConnection: Get Started: API Explorer</td><td>Google Chrome (unknown version)</td><tr><td>2014-12-01 00:00:00</td><td>Mon.  1 Dec. 2014</td><td>20</td><td>16</td><td>DevConnection: Get Started: API Explorer</td><td>Mozilla Firefox (unknown version)</td><tr><td>2014-12-01 00:00:00</td><td>Mon.  1 Dec. 2014</td><td>10</td><td>10</td><td>DevConnection: Get Started: API Explorer</td><td>Google Chrome 38.0</td><tr><td>2014-12-01 00:00:00</td><td>Mon.  1 Dec. 2014</td><td>4</td><td>4</td><td>DevConnection: Get Started: API Explorer</td><td>Safari 8.0</td><tr><td>2014-12-01 00:00:00</td><td>Mon.  1 Dec. 2014</td><td>2</td><td>2</td><td>DevConnection: Get Started: API Explorer</td><td>Mozilla Firefox 31.0</td><tr><td>2014-12-01 00:00:00</td><td>Mon.  1 Dec. 2014</td><td>2</td><td>2</td><td>DevConnection: Get Started: API Explorer</td><td>Mozilla Firefox 32.0</td><tr><td>2014-12-01 00:00:00</td><td>Mon.  1 Dec. 2014</td><td>2</td><td>2</td><td>DevConnection: Get Started: API Explorer</td><td>Google Chrome 36.0</td><tr><td>2014-12-01 00:00:00</td><td>Mon.  1 Dec. 2014</td><td>2</td><td>2</td><td>DevConnection: Get Started: API Explorer</td><td>Microsoft Internet Explorer 9</td><tr><td>2014-12-01 00:00:00</td><td>Mon.  1 Dec. 2014</td><td>2</td><td>1</td><td>DevConnection: Get Started: API Explorer</td><td>Safari (unknown version)</td><tr><td>2014-12-01 00:00:00</td><td>Mon.  1 Dec. 2014</td><td>1</td><td>1</td><td>DevConnection: Get Started: API Explorer</td><td>Google Chrome 37.0</td><tr><td>2014-12-01 00:00:00</td><td>Mon.  1 Dec. 2014</td><td>40</td><td>37</td><td>DevConnection: Get Started: Content Page: Measuring and Optimizing Mobile Applications</td><td>Google Chrome (unknown version)</td><tr><td>2014-12-01 00:00:00</td><td>Mon.  1 Dec. 2014</td><td>16</td><td>13</td><td>DevConnection: Get Started: Content Page: Measuring and Optimizing Mobile Applications</td><td>Safari 8.0</td><tr><td>2014-12-01 00:00:00</td><td>Mon.  1 Dec. 2014</td><td>16</td><td>12</td><td>DevConnection: Get Started: Content Page: Measuring and Optimizing Mobile Applications</td><td>Mozilla Firefox (unknown version)</td><tr><td>2014-12-01 00:00:00</td><td>Mon.  1 Dec. 2014</td><td>8</td><td>8</td><td>DevConnection: Get Started: Content Page: Measuring and Optimizing Mobile Applications</td><td>Google Chrome 38.0</td><tr><td>2014-12-01 00:00:00</td><td>Mon.  1 Dec. 2014</td><td>2</td><td>2</td><td>DevConnection: Get Started: Content Page: Measuring and Optimizing Mobile Applications</td><td>Safari 7.0.6</td><tr><td>2014-12-01 00:00:00</td><td>Mon.  1 Dec. 2014</td><td>2</td><td>2</td><td>DevConnection: Get Started: Content Page: Measuring and Optimizing Mobile Applications</td><td>Microsoft Internet Explorer 8</td><tr><td>2014-12-01 00:00:00</td><td>Mon.  1 Dec. 2014</td><td>2</td><td>2</td><td>DevConnection: Get Started: Content Page: Measuring and Optimizing Mobile Applications</td><td>Safari (unknown version)</td><tr><td>2014-12-01 00:00:00</td><td>Mon.  1 Dec. 2014</td><td>2</td><td>1</td><td>DevConnection: Get Started: Content Page: Measuring and Optimizing Mobile Applications</td><td>Microsoft Internet Explorer 10</td><tr><td>2014-12-01 00:00:00</td><td>Mon.  1 Dec. 2014</td><td>2</td><td>1</td><td>DevConnection: Get Started: Content Page: Measuring and Optimizing Mobile Applications</td><td>Safari 0.8.2</td><tr><td>2014-12-01 00:00:00</td><td>Mon.  1 Dec. 2014</td><td>1</td><td>1</td><td>DevConnection: Get Started: Content Page: Measuring and Optimizing Mobile Applications</td><td>Chrome Mobile 39.0.2171</td><tr><td>2014-12-01 00:00:00</td><td>Mon.  1 Dec. 2014</td><td>54</td><td>43</td><td>Other</td><td>Google Chrome (unknown version)</td><tr><td>2014-12-01 00:00:00</td><td>Mon.  1 Dec. 2014</td><td>20</td><td>17</td><td>Other</td><td>Mozilla Firefox (unknown version)</td><tr><td>2014-12-01 00:00:00</td><td>Mon.  1 Dec. 2014</td><td>3</td><td>3</td><td>Other</td><td>Google Chrome 38.0</td><tr><td>2014-12-01 00:00:00</td><td>Mon.  1 Dec. 2014</td><td>3</td><td>1</td><td>Other</td><td>Microsoft Internet Explorer 11</td><tr><td>2014-12-01 00:00:00</td><td>Mon.  1 Dec. 2014</td><td>2</td><td>2</td><td>Other</td><td>Microsoft Internet Explorer 8</td><tr><td>2014-12-01 00:00:00</td><td>Mon.  1 Dec. 2014</td><td>1</td><td>1</td><td>Other</td><td>Mozilla Firefox 31.0</td><tr><td>2014-12-01 00:00:00</td><td>Mon.  1 Dec. 2014</td><td>1</td><td>1</td><td>Other</td><td>Safari 8.0</td><tr><td>2014-12-01 00:00:00</td><td>Mon.  1 Dec. 2014</td><td>1</td><td>1</td><td>Other</td><td>Google Chrome 31.0</td><tr><td>2014-12-01 00:00:00</td><td>Mon.  1 Dec. 2014</td><td>1</td><td>1</td><td>Other</td><td>SouGou Browser</td><tr><td>2014-12-01 00:00:00</td><td>Mon.  1 Dec. 2014</td><td>1</td><td>1</td><td>Other</td><td>Mozilla Firefox 18.0</td><tr><td>2014-12-01 00:00:00</td><td>Mon.  1 Dec. 2014</td><td>37</td><td>33</td><td>DevConnection: Documentation</td><td>Google Chrome (unknown version)</td><tr><td>2014-12-01 00:00:00</td><td>Mon.  1 Dec. 2014</td><td>23</td><td>15</td><td>DevConnection: Documentation</td><td>Mozilla Firefox (unknown version)</td><tr><td>2014-12-01 00:00:00</td><td>Mon.  1 Dec. 2014</td><td>5</td><td>5</td><td>DevConnection: Documentation</td><td>Google Chrome 38.0</td><tr><td>2014-12-01 00:00:00</td><td>Mon.  1 Dec. 2014</td><td>5</td><td>3</td><td>DevConnection: Documentation</td><td>Safari 8.0</td><tr><td>2014-12-01 00:00:00</td><td>Mon.  1 Dec. 2014</td><td>2</td><td>2</td><td>DevConnection: Documentation</td><td>Microsoft Internet Explorer 11</td><tr><td>2014-12-01 00:00:00</td><td>Mon.  1 Dec. 2014</td><td>2</td><td>2</td><td>DevConnection: Documentation</td><td>Safari 0.8.2</td><tr><td>2014-12-01 00:00:00</td><td>Mon.  1 Dec. 2014</td><td>2</td><td>1</td><td>DevConnection: Documentation</td><td>Chrome Mobile 38.0.2125</td><tr><td>2014-12-01 00:00:00</td><td>Mon.  1 Dec. 2014</td><td>1</td><td>1</td><td>DevConnection: Documentation</td><td>Mozilla Firefox 31.0</td><tr><td>2014-12-01 00:00:00</td><td>Mon.  1 Dec. 2014</td><td>1</td><td>1</td><td>DevConnection: Documentation</td><td>Mobile Safari 7.0</td><tr><td>2014-12-01 00:00:00</td><td>Mon.  1 Dec. 2014</td><td>1</td><td>1</td><td>DevConnection: Documentation</td><td>Mozilla Firefox 17.0</td><tr><td>2014-12-01 00:00:00</td><td>Mon.  1 Dec. 2014</td><td>26</td><td>26</td><td>DevConnection: Documentation: Page: HTTP GET Sample</td><td>Google Chrome (unknown version)</td><tr><td>2014-12-01 00:00:00</td><td>Mon.  1 Dec. 2014</td><td>5</td><td>5</td><td>DevConnection: Documentation: Page: HTTP GET Sample</td><td>Mozilla Firefox (unknown version)</td><tr><td>2014-12-01 00:00:00</td><td>Mon.  1 Dec. 2014</td><td>4</td><td>4</td><td>DevConnection: Documentation: Page: HTTP GET Sample</td><td>Google Chrome 38.0</td><tr><td>2014-12-01 00:00:00</td><td>Mon.  1 Dec. 2014</td><td>3</td><td>2</td><td>DevConnection: Documentation: Page: HTTP GET Sample</td><td>Safari (unknown version)</td><tr><td>2014-12-01 00:00:00</td><td>Mon.  1 Dec. 2014</td><td>2</td><td>2</td><td>DevConnection: Documentation: Page: HTTP GET Sample</td><td>Safari 8.0</td><tr><td>2014-12-01 00:00:00</td><td>Mon.  1 Dec. 2014</td><td>2</td><td>2</td><td>DevConnection: Documentation: Page: HTTP GET Sample</td><td>Google Chrome 36.0</td><tr><td>2014-12-01 00:00:00</td><td>Mon.  1 Dec. 2014</td><td>2</td><td>2</td><td>DevConnection: Documentation: Page: HTTP GET Sample</td><td>Google Chrome 33.0</td><tr><td>2014-12-01 00:00:00</td><td>Mon.  1 Dec. 2014</td><td>2</td><td>2</td><td>DevConnection: Documentation: Page: HTTP GET Sample</td><td>Google Chrome 18.0</td><tr><td>2014-12-01 00:00:00</td><td>Mon.  1 Dec. 2014</td><td>1</td><td>1</td><td>DevConnection: Documentation: Page: HTTP GET Sample</td><td>Mozilla Firefox 31.0</td><tr><td>2014-12-01 00:00:00</td><td>Mon.  1 Dec. 2014</td><td>1</td><td>1</td><td>DevConnection: Documentation: Page: HTTP GET Sample</td><td>Chrome Mobile 39.0.2171</td><tr><td>2014-12-01 00:00:00</td><td>Mon.  1 Dec. 2014</td><td>20</td><td>20</td><td>DevConnection: Get Started: Content Page: Report Builder</td><td>Google Chrome (unknown version)</td><tr><td>2014-12-01 00:00:00</td><td>Mon.  1 Dec. 2014</td><td>12</td><td>12</td><td>DevConnection: Get Started: Content Page: Report Builder</td><td>Mozilla Firefox (unknown version)</td><tr><td>2014-12-01 00:00:00</td><td>Mon.  1 Dec. 2014</td><td>5</td><td>5</td><td>DevConnection: Get Started: Content Page: Report Builder</td><td>Google Chrome 38.0</td><tr><td>2014-12-01 00:00:00</td><td>Mon.  1 Dec. 2014</td><td>4</td><td>3</td><td>DevConnection: Get Started: Content Page: Report Builder</td><td>Microsoft Internet Explorer 11</td><tr><td>2014-12-01 00:00:00</td><td>Mon.  1 Dec. 2014</td><td>3</td><td>3</td><td>DevConnection: Get Started: Content Page: Report Builder</td><td>Microsoft Internet Explorer 8</td><tr><td>2014-12-01 00:00:00</td><td>Mon.  1 Dec. 2014</td><td>1</td><td>1</td><td>DevConnection: Get Started: Content Page: Report Builder</td><td>Mobile Safari 7.0</td><tr><td>2014-12-01 00:00:00</td><td>Mon.  1 Dec. 2014</td><td>1</td><td>1</td><td>DevConnection: Get Started: Content Page: Report Builder</td><td>Mozilla Firefox 29.0</td><tr><td>2014-12-01 00:00:00</td><td>Mon.  1 Dec. 2014</td><td>1</td><td>1</td><td>DevConnection: Get Started: Content Page: Report Builder</td><td>Chrome Mobile 39.0.2171</td><tr><td>2014-12-01 00:00:00</td><td>Mon.  1 Dec. 2014</td><td>1</td><td>1</td><td>DevConnection: Get Started: Content Page: Report Builder</td><td>Safari 7.0.6</td><tr><td>2014-12-01 00:00:00</td><td>Mon.  1 Dec. 2014</td><td>1</td><td>1</td><td>DevConnection: Get Started: Content Page: Report Builder</td><td>Google Chrome 34.0</td><tr><td>2014-12-01 00:00:00</td><td>Mon.  1 Dec. 2014</td><td>27</td><td>21</td><td>DevConnection: Documentation: Page: Methods</td><td>Google Chrome (unknown version)</td><tr><td>2014-12-01 00:00:00</td><td>Mon.  1 Dec. 2014</td><td>10</td><td>10</td><td>DevConnection: Documentation: Page: Methods</td><td>Mozilla Firefox (unknown version)</td><tr><td>2014-12-01 00:00:00</td><td>Mon.  1 Dec. 2014</td><td>3</td><td>3</td><td>DevConnection: Documentation: Page: Methods</td><td>Google Chrome 38.0</td><tr><td>2014-12-01 00:00:00</td><td>Mon.  1 Dec. 2014</td><td>1</td><td>1</td><td>DevConnection: Documentation: Page: Methods</td><td>Chrome Mobile 38.0.2125</td><tr><td>2014-12-01 00:00:00</td><td>Mon.  1 Dec. 2014</td><td>1</td><td>1</td><td>DevConnection: Documentation: Page: Methods</td><td>Safari 8.0</td><tr><td>2014-12-01 00:00:00</td><td>Mon.  1 Dec. 2014</td><td>1</td><td>1</td><td>DevConnection: Documentation: Page: Methods</td><td>Microsoft Internet Explorer 8</td><tr><td>2014-12-01 00:00:00</td><td>Mon.  1 Dec. 2014</td><td>1</td><td>1</td><td>DevConnection: Documentation: Page: Methods</td><td>Safari 0.8.2</td><tr><td>2014-12-01 00:00:00</td><td>Mon.  1 Dec. 2014</td><td>25</td><td>24</td><td>DevConnection: Documentation: Page: Analytics Reporting API</td><td>Google Chrome (unknown version)</td><tr><td>2014-12-01 00:00:00</td><td>Mon.  1 Dec. 2014</td><td>13</td><td>12</td><td>DevConnection: Documentation: Page: Analytics Reporting API</td><td>Mozilla Firefox (unknown version)</td><tr><td>2014-12-01 00:00:00</td><td>Mon.  1 Dec. 2014</td><td>4</td><td>3</td><td>DevConnection: Documentation: Page: Analytics Reporting API</td><td>Safari 8.0</td><tr><td>2014-12-01 00:00:00</td><td>Mon.  1 Dec. 2014</td><td>3</td><td>3</td><td>DevConnection: Documentation: Page: Analytics Reporting API</td><td>Google Chrome 38.0</td><tr><td>2014-12-01 00:00:00</td><td>Mon.  1 Dec. 2014</td><td>1</td><td>1</td><td>DevConnection: Documentation: Page: Analytics Reporting API</td><td>Google Chrome 34.0</td><tr><td>2014-12-01 00:00:00</td><td>Mon.  1 Dec. 2014</td><td>1</td><td>1</td><td>DevConnection: Documentation: Page: Analytics Reporting API</td><td>Microsoft Internet Explorer 8</td><tr><td>2014-12-01 00:00:00</td><td>Mon.  1 Dec. 2014</td><td>20</td><td>18</td><td>DevConnection: Documentation: Page: Getting Started</td><td>Google Chrome (unknown version)</td><tr><td>2014-12-01 00:00:00</td><td>Mon.  1 Dec. 2014</td><td>4</td><td>4</td><td>DevConnection: Documentation: Page: Getting Started</td><td>Safari 8.0</td><tr><td>2014-12-01 00:00:00</td><td>Mon.  1 Dec. 2014</td><td>4</td><td>4</td><td>DevConnection: Documentation: Page: Getting Started</td><td>Google Chrome 38.0</td><tr><td>2014-12-01 00:00:00</td><td>Mon.  1 Dec. 2014</td><td>4</td><td>4</td><td>DevConnection: Documentation: Page: Getting Started</td><td>Mozilla Firefox (unknown version)</td><tr><td>2014-12-01 00:00:00</td><td>Mon.  1 Dec. 2014</td><td>1</td><td>1</td><td>DevConnection: Documentation: Page: Getting Started</td><td>Google Chrome 37.0</td><tr><td>2014-12-01 00:00:00</td><td>Mon.  1 Dec. 2014</td><td>1</td><td>1</td><td>DevConnection: Documentation: Page: Getting Started</td><td>Mozilla Firefox 17.0</td><tr><td>2014-12-02 00:00:00</td><td>Tue.  2 Dec. 2014</td><td>68</td><td>61</td><td>DevConnection: Home</td><td>Google Chrome (unknown version)</td><tr><td>2014-12-02 00:00:00</td><td>Tue.  2 Dec. 2014</td><td>33</td><td>26</td><td>DevConnection: Home</td><td>Mozilla Firefox (unknown version)</td><tr><td>2014-12-02 00:00:00</td><td>Tue.  2 Dec. 2014</td><td>8</td><td>8</td><td>DevConnection: Home</td><td>Google Chrome 38.0</td><tr><td>2014-12-02 00:00:00</td><td>Tue.  2 Dec. 2014</td><td>7</td><td>6</td><td>DevConnection: Home</td><td>Microsoft Internet Explorer 11</td><tr><td>2014-12-02 00:00:00</td><td>Tue.  2 Dec. 2014</td><td>4</td><td>4</td><td>DevConnection: Home</td><td>Safari 8.0</td><tr><td>2014-12-02 00:00:00</td><td>Tue.  2 Dec. 2014</td><td>3</td><td>2</td><td>DevConnection: Home</td><td>Safari 0.8.2</td><tr><td>2014-12-02 00:00:00</td><td>Tue.  2 Dec. 2014</td><td>2</td><td>2</td><td>DevConnection: Home</td><td>Mozilla Firefox 32.0</td><tr><td>2014-12-02 00:00:00</td><td>Tue.  2 Dec. 2014</td><td>2</td><td>2</td><td>DevConnection: Home</td><td>Microsoft Internet Explorer 9</td><tr><td>2014-12-02 00:00:00</td><td>Tue.  2 Dec. 2014</td><td>1</td><td>1</td><td>DevConnection: Home</td><td>Android Browser</td><tr><td>2014-12-02 00:00:00</td><td>Tue.  2 Dec. 2014</td><td>1</td><td>1</td><td>DevConnection: Home</td><td>Google Chrome 36.0</td><tr><td>2014-12-02 00:00:00</td><td>Tue.  2 Dec. 2014</td><td>62</td><td>48</td><td>DevConnection: Get Started: API Explorer</td><td>Google Chrome (unknown version)</td><tr><td>2014-12-02 00:00:00</td><td>Tue.  2 Dec. 2014</td><td>21</td><td>15</td><td>DevConnection: Get Started: API Explorer</td><td>Mozilla Firefox (unknown version)</td><tr><td>2014-12-02 00:00:00</td><td>Tue.  2 Dec. 2014</td><td>9</td><td>8</td><td>DevConnection: Get Started: API Explorer</td><td>Google Chrome 38.0</td><tr><td>2014-12-02 00:00:00</td><td>Tue.  2 Dec. 2014</td><td>4</td><td>4</td><td>DevConnection: Get Started: API Explorer</td><td>Mozilla Firefox 32.0</td><tr><td>2014-12-02 00:00:00</td><td>Tue.  2 Dec. 2014</td><td>2</td><td>2</td><td>DevConnection: Get Started: API Explorer</td><td>Safari 0.8.2</td><tr><td>2014-12-02 00:00:00</td><td>Tue.  2 Dec. 2014</td><td>2</td><td>1</td><td>DevConnection: Get Started: API Explorer</td><td>Google Chrome 35.0</td><tr><td>2014-12-02 00:00:00</td><td>Tue.  2 Dec. 2014</td><td>1</td><td>1</td><td>DevConnection: Get Started: API Explorer</td><td>Mozilla Firefox 29.0</td><tr><td>2014-12-02 00:00:00</td><td>Tue.  2 Dec. 2014</td><td>1</td><td>1</td><td>DevConnection: Get Started: API Explorer</td><td>Microsoft Internet Explorer 10</td><tr><td>2014-12-02 00:00:00</td><td>Tue.  2 Dec. 2014</td><td>50</td><td>50</td><td>DevConnection: Get Started: Content Page: Measuring and Optimizing Mobile Applications</td><td>Google Chrome (unknown version)</td><tr><td>2014-12-02 00:00:00</td><td>Tue.  2 Dec. 2014</td><td>20</td><td>17</td><td>DevConnection: Get Started: Content Page: Measuring and Optimizing Mobile Applications</td><td>Mozilla Firefox (unknown version)</td><tr><td>2014-12-02 00:00:00</td><td>Tue.  2 Dec. 2014</td><td>8</td><td>8</td><td>DevConnection: Get Started: Content Page: Measuring and Optimizing Mobile Applications</td><td>Safari 8.0</td><tr><td>2014-12-02 00:00:00</td><td>Tue.  2 Dec. 2014</td><td>7</td><td>6</td><td>DevConnection: Get Started: Content Page: Measuring and Optimizing Mobile Applications</td><td>Google Chrome 38.0</td><tr><td>2014-12-02 00:00:00</td><td>Tue.  2 Dec. 2014</td><td>3</td><td>3</td><td>DevConnection: Get Started: Content Page: Measuring and Optimizing Mobile Applications</td><td>Microsoft Internet Explorer 11</td><tr><td>2014-12-02 00:00:00</td><td>Tue.  2 Dec. 2014</td><td>3</td><td>2</td><td>DevConnection: Get Started: Content Page: Measuring and Optimizing Mobile Applications</td><td>Safari 7.0.5</td><tr><td>2014-12-02 00:00:00</td><td>Tue.  2 Dec. 2014</td><td>3</td><td>2</td><td>DevConnection: Get Started: Content Page: Measuring and Optimizing Mobile Applications</td><td>Safari 0.8.2</td><tr><td>2014-12-02 00:00:00</td><td>Tue.  2 Dec. 2014</td><td>3</td><td>1</td><td>DevConnection: Get Started: Content Page: Measuring and Optimizing Mobile Applications</td><td>Safari (unknown version)</td><tr><td>2014-12-02 00:00:00</td><td>Tue.  2 Dec. 2014</td><td>2</td><td>2</td><td>DevConnection: Get Started: Content Page: Measuring and Optimizing Mobile Applications</td><td>Google Chrome 35.0</td><tr><td>2014-12-02 00:00:00</td><td>Tue.  2 Dec. 2014</td><td>2</td><td>1</td><td>DevConnection: Get Started: Content Page: Measuring and Optimizing Mobile Applications</td><td>Android Browser 4.0</td><tr><td>2014-12-02 00:00:00</td><td>Tue.  2 Dec. 2014</td><td>33</td><td>31</td><td>Other</td><td>Google Chrome (unknown version)</td><tr><td>2014-12-02 00:00:00</td><td>Tue.  2 Dec. 2014</td><td>15</td><td>13</td><td>Other</td><td>Mozilla Firefox (unknown version)</td><tr><td>2014-12-02 00:00:00</td><td>Tue.  2 Dec. 2014</td><td>6</td><td>6</td><td>Other</td><td>Google Chrome 38.0</td><tr><td>2014-12-02 00:00:00</td><td>Tue.  2 Dec. 2014</td><td>4</td><td>4</td><td>Other</td><td>Microsoft Internet Explorer 11</td><tr><td>2014-12-02 00:00:00</td><td>Tue.  2 Dec. 2014</td><td>1</td><td>1</td><td>Other</td><td>Mozilla Firefox 32.0</td><tr><td>2014-12-02 00:00:00</td><td>Tue.  2 Dec. 2014</td><td>1</td><td>1</td><td>Other</td><td>Safari 8.0</td><tr><td>2014-12-02 00:00:00</td><td>Tue.  2 Dec. 2014</td><td>1</td><td>1</td><td>Other</td><td>Mozilla Firefox 24.0</td><tr><td>2014-12-02 00:00:00</td><td>Tue.  2 Dec. 2014</td><td>1</td><td>1</td><td>Other</td><td>SouGou Browser</td><tr><td>2014-12-02 00:00:00</td><td>Tue.  2 Dec. 2014</td><td>1</td><td>1</td><td>Other</td><td>Microsoft Internet Explorer 9</td><tr><td>2014-12-02 00:00:00</td><td>Tue.  2 Dec. 2014</td><td>47</td><td>46</td><td>DevConnection: Documentation</td><td>Google Chrome (unknown version)</td><tr><td>2014-12-02 00:00:00</td><td>Tue.  2 Dec. 2014</td><td>11</td><td>11</td><td>DevConnection: Documentation</td><td>Mozilla Firefox (unknown version)</td><tr><td>2014-12-02 00:00:00</td><td>Tue.  2 Dec. 2014</td><td>3</td><td>3</td><td>DevConnection: Documentation</td><td>Google Chrome 38.0</td><tr><td>2014-12-02 00:00:00</td><td>Tue.  2 Dec. 2014</td><td>2</td><td>2</td><td>DevConnection: Documentation</td><td>Safari 8.0</td><tr><td>2014-12-02 00:00:00</td><td>Tue.  2 Dec. 2014</td><td>2</td><td>2</td><td>DevConnection: Documentation</td><td>Microsoft Internet Explorer 11</td><tr><td>2014-12-02 00:00:00</td><td>Tue.  2 Dec. 2014</td><td>1</td><td>1</td><td>DevConnection: Documentation</td><td>Safari 7.0.6</td><tr><td>2014-12-02 00:00:00</td><td>Tue.  2 Dec. 2014</td><td>1</td><td>1</td><td>DevConnection: Documentation</td><td>Microsoft Internet Explorer 9</td><tr><td>2014-12-02 00:00:00</td><td>Tue.  2 Dec. 2014</td><td>21</td><td>20</td><td>DevConnection: Documentation: Page: HTTP GET Sample</td><td>Google Chrome (unknown version)</td><tr><td>2014-12-02 00:00:00</td><td>Tue.  2 Dec. 2014</td><td>12</td><td>12</td><td>DevConnection: Documentation: Page: HTTP GET Sample</td><td>Mozilla Firefox (unknown version)</td><tr><td>2014-12-02 00:00:00</td><td>Tue.  2 Dec. 2014</td><td>3</td><td>3</td><td>DevConnection: Documentation: Page: HTTP GET Sample</td><td>Google Chrome 38.0</td><tr><td>2014-12-02 00:00:00</td><td>Tue.  2 Dec. 2014</td><td>1</td><td>1</td><td>DevConnection: Documentation: Page: HTTP GET Sample</td><td>Mozilla Firefox 31.0</td><tr><td>2014-12-02 00:00:00</td><td>Tue.  2 Dec. 2014</td><td>1</td><td>1</td><td>DevConnection: Documentation: Page: HTTP GET Sample</td><td>Safari 8.0</td><tr><td>2014-12-02 00:00:00</td><td>Tue.  2 Dec. 2014</td><td>1</td><td>1</td><td>DevConnection: Documentation: Page: HTTP GET Sample</td><td>Google Chrome 35.0</td><tr><td>2014-12-02 00:00:00</td><td>Tue.  2 Dec. 2014</td><td>1</td><td>1</td><td>DevConnection: Documentation: Page: HTTP GET Sample</td><td>Google Chrome 34.0</td><tr><td>2014-12-02 00:00:00</td><td>Tue.  2 Dec. 2014</td><td>1</td><td>1</td><td>DevConnection: Documentation: Page: HTTP GET Sample</td><td>Google Chrome 32.0</td><tr><td>2014-12-02 00:00:00</td><td>Tue.  2 Dec. 2014</td><td>1</td><td>1</td><td>DevConnection: Documentation: Page: HTTP GET Sample</td><td>Microsoft Internet Explorer 11</td><tr><td>2014-12-02 00:00:00</td><td>Tue.  2 Dec. 2014</td><td>1</td><td>1</td><td>DevConnection: Documentation: Page: HTTP GET Sample</td><td>Google Chrome 24.0</td><tr><td>2014-12-02 00:00:00</td><td>Tue.  2 Dec. 2014</td><td>34</td><td>32</td><td>DevConnection: Get Started: Content Page: Report Builder</td><td>Google Chrome (unknown version)</td><tr><td>2014-12-02 00:00:00</td><td>Tue.  2 Dec. 2014</td><td>4</td><td>4</td><td>DevConnection: Get Started: Content Page: Report Builder</td><td>Mozilla Firefox (unknown version)</td><tr><td>2014-12-02 00:00:00</td><td>Tue.  2 Dec. 2014</td><td>3</td><td>3</td><td>DevConnection: Get Started: Content Page: Report Builder</td><td>Microsoft Internet Explorer 11</td><tr><td>2014-12-02 00:00:00</td><td>Tue.  2 Dec. 2014</td><td>3</td><td>3</td><td>DevConnection: Get Started: Content Page: Report Builder</td><td>Safari (unknown version)</td><tr><td>2014-12-02 00:00:00</td><td>Tue.  2 Dec. 2014</td><td>1</td><td>1</td><td>DevConnection: Get Started: Content Page: Report Builder</td><td>Mozilla Firefox 31.0</td><tr><td>2014-12-02 00:00:00</td><td>Tue.  2 Dec. 2014</td><td>1</td><td>1</td><td>DevConnection: Get Started: Content Page: Report Builder</td><td>Google Chrome 37.0</td><tr><td>2014-12-02 00:00:00</td><td>Tue.  2 Dec. 2014</td><td>1</td><td>1</td><td>DevConnection: Get Started: Content Page: Report Builder</td><td>Microsoft Internet Explorer 9</td><tr><td>2014-12-02 00:00:00</td><td>Tue.  2 Dec. 2014</td><td>1</td><td>1</td><td>DevConnection: Get Started: Content Page: Report Builder</td><td>Microsoft Internet Explorer 8</td><tr><td>2014-12-02 00:00:00</td><td>Tue.  2 Dec. 2014</td><td>26</td><td>22</td><td>DevConnection: Documentation: Page: Methods</td><td>Google Chrome (unknown version)</td><tr><td>2014-12-02 00:00:00</td><td>Tue.  2 Dec. 2014</td><td>10</td><td>9</td><td>DevConnection: Documentation: Page: Methods</td><td>Mozilla Firefox (unknown version)</td><tr><td>2014-12-02 00:00:00</td><td>Tue.  2 Dec. 2014</td><td>4</td><td>3</td><td>DevConnection: Documentation: Page: Methods</td><td>Google Chrome 38.0</td><tr><td>2014-12-02 00:00:00</td><td>Tue.  2 Dec. 2014</td><td>1</td><td>1</td><td>DevConnection: Documentation: Page: Methods</td><td>Safari 8.0</td><tr><td>2014-12-02 00:00:00</td><td>Tue.  2 Dec. 2014</td><td>1</td><td>1</td><td>DevConnection: Documentation: Page: Methods</td><td>Microsoft Internet Explorer 9</td><tr><td>2014-12-02 00:00:00</td><td>Tue.  2 Dec. 2014</td><td>34</td><td>33</td><td>DevConnection: Documentation: Page: Analytics Reporting API</td><td>Google Chrome (unknown version)</td><tr><td>2014-12-02 00:00:00</td><td>Tue.  2 Dec. 2014</td><td>6</td><td>5</td><td>DevConnection: Documentation: Page: Analytics Reporting API</td><td>Mozilla Firefox (unknown version)</td><tr><td>2014-12-02 00:00:00</td><td>Tue.  2 Dec. 2014</td><td>3</td><td>3</td><td>DevConnection: Documentation: Page: Analytics Reporting API</td><td>Google Chrome 38.0</td><tr><td>2014-12-02 00:00:00</td><td>Tue.  2 Dec. 2014</td><td>2</td><td>1</td><td>DevConnection: Documentation: Page: Analytics Reporting API</td><td>Android Browser</td><tr><td>2014-12-02 00:00:00</td><td>Tue.  2 Dec. 2014</td><td>1</td><td>1</td><td>DevConnection: Documentation: Page: Analytics Reporting API</td><td>Safari 8.0</td><tr><td>2014-12-02 00:00:00</td><td>Tue.  2 Dec. 2014</td><td>1</td><td>1</td><td>DevConnection: Documentation: Page: Analytics Reporting API</td><td>Microsoft Internet Explorer 8</td><tr><td>2014-12-02 00:00:00</td><td>Tue.  2 Dec. 2014</td><td>22</td><td>18</td><td>DevConnection: Documentation: Page: Getting Started</td><td>Google Chrome (unknown version)</td><tr><td>2014-12-02 00:00:00</td><td>Tue.  2 Dec. 2014</td><td>3</td><td>3</td><td>DevConnection: Documentation: Page: Getting Started</td><td>Mozilla Firefox (unknown version)</td><tr><td>2014-12-02 00:00:00</td><td>Tue.  2 Dec. 2014</td><td>2</td><td>2</td><td>DevConnection: Documentation: Page: Getting Started</td><td>Mozilla Firefox 32.0</td><tr><td>2014-12-02 00:00:00</td><td>Tue.  2 Dec. 2014</td><td>1</td><td>1</td><td>DevConnection: Documentation: Page: Getting Started</td><td>Google Chrome 38.0</td><tr><td>2014-12-02 00:00:00</td><td>Tue.  2 Dec. 2014</td><td>1</td><td>1</td><td>DevConnection: Documentation: Page: Getting Started</td><td>Microsoft Internet Explorer 9</td><tr><td>2014-12-03 00:00:00</td><td>Wed.  3 Dec. 2014</td><td>76</td><td>62</td><td>DevConnection: Home</td><td>Google Chrome (unknown version)</td><tr><td>2014-12-03 00:00:00</td><td>Wed.  3 Dec. 2014</td><td>39</td><td>34</td><td>DevConnection: Home</td><td>Mozilla Firefox (unknown version)</td><tr><td>2014-12-03 00:00:00</td><td>Wed.  3 Dec. 2014</td><td>12</td><td>10</td><td>DevConnection: Home</td><td>Google Chrome 38.0</td><tr><td>2014-12-03 00:00:00</td><td>Wed.  3 Dec. 2014</td><td>7</td><td>7</td><td>DevConnection: Home</td><td>Safari (unknown version)</td><tr><td>2014-12-03 00:00:00</td><td>Wed.  3 Dec. 2014</td><td>5</td><td>5</td><td>DevConnection: Home</td><td>Safari 8.0</td><tr><td>2014-12-03 00:00:00</td><td>Wed.  3 Dec. 2014</td><td>4</td><td>3</td><td>DevConnection: Home</td><td>Mozilla Firefox 31.0</td><tr><td>2014-12-03 00:00:00</td><td>Wed.  3 Dec. 2014</td><td>4</td><td>2</td><td>DevConnection: Home</td><td>Google Chrome 31.0</td><tr><td>2014-12-03 00:00:00</td><td>Wed.  3 Dec. 2014</td><td>3</td><td>3</td><td>DevConnection: Home</td><td>Microsoft Internet Explorer 11</td><tr><td>2014-12-03 00:00:00</td><td>Wed.  3 Dec. 2014</td><td>3</td><td>3</td><td>DevConnection: Home</td><td>Google Chrome 29.0</td><tr><td>2014-12-03 00:00:00</td><td>Wed.  3 Dec. 2014</td><td>2</td><td>1</td><td>DevConnection: Home</td><td>Mozilla Firefox 32.0</td><tr><td>2014-12-03 00:00:00</td><td>Wed.  3 Dec. 2014</td><td>89</td><td>70</td><td>DevConnection: Get Started: API Explorer</td><td>Google Chrome (unknown version)</td><tr><td>2014-12-03 00:00:00</td><td>Wed.  3 Dec. 2014</td><td>25</td><td>21</td><td>DevConnection: Get Started: API Explorer</td><td>Mozilla Firefox (unknown version)</td><tr><td>2014-12-03 00:00:00</td><td>Wed.  3 Dec. 2014</td><td>9</td><td>8</td><td>DevConnection: Get Started: API Explorer</td><td>Google Chrome 38.0</td><tr><td>2014-12-03 00:00:00</td><td>Wed.  3 Dec. 2014</td><td>3</td><td>2</td><td>DevConnection: Get Started: API Explorer</td><td>Mozilla Firefox 31.0</td><tr><td>2014-12-03 00:00:00</td><td>Wed.  3 Dec. 2014</td><td>3</td><td>2</td><td>DevConnection: Get Started: API Explorer</td><td>Microsoft Internet Explorer 10</td><tr><td>2014-12-03 00:00:00</td><td>Wed.  3 Dec. 2014</td><td>3</td><td>1</td><td>DevConnection: Get Started: API Explorer</td><td>Mozilla Firefox 30.0</td><tr><td>2014-12-03 00:00:00</td><td>Wed.  3 Dec. 2014</td><td>2</td><td>2</td><td>DevConnection: Get Started: API Explorer</td><td>Safari 8.0</td><tr><td>2014-12-03 00:00:00</td><td>Wed.  3 Dec. 2014</td><td>2</td><td>2</td><td>DevConnection: Get Started: API Explorer</td><td>Safari 7.0.6</td><tr><td>2014-12-03 00:00:00</td><td>Wed.  3 Dec. 2014</td><td>2</td><td>2</td><td>DevConnection: Get Started: API Explorer</td><td>Google Chrome 36.0</td><tr><td>2014-12-03 00:00:00</td><td>Wed.  3 Dec. 2014</td><td>1</td><td>1</td><td>DevConnection: Get Started: API Explorer</td><td>Microsoft Internet Explorer 11</td><tr><td>2014-12-03 00:00:00</td><td>Wed.  3 Dec. 2014</td><td>52</td><td>51</td><td>DevConnection: Get Started: Content Page: Measuring and Optimizing Mobile Applications</td><td>Google Chrome (unknown version)</td><tr><td>2014-12-03 00:00:00</td><td>Wed.  3 Dec. 2014</td><td>20</td><td>19</td><td>DevConnection: Get Started: Content Page: Measuring and Optimizing Mobile Applications</td><td>Mozilla Firefox (unknown version)</td><tr><td>2014-12-03 00:00:00</td><td>Wed.  3 Dec. 2014</td><td>9</td><td>9</td><td>DevConnection: Get Started: Content Page: Measuring and Optimizing Mobile Applications</td><td>Google Chrome 38.0</td><tr><td>2014-12-03 00:00:00</td><td>Wed.  3 Dec. 2014</td><td>8</td><td>7</td><td>DevConnection: Get Started: Content Page: Measuring and Optimizing Mobile Applications</td><td>Safari 8.0</td><tr><td>2014-12-03 00:00:00</td><td>Wed.  3 Dec. 2014</td><td>7</td><td>7</td><td>DevConnection: Get Started: Content Page: Measuring and Optimizing Mobile Applications</td><td>Safari (unknown version)</td><tr><td>2014-12-03 00:00:00</td><td>Wed.  3 Dec. 2014</td><td>2</td><td>2</td><td>DevConnection: Get Started: Content Page: Measuring and Optimizing Mobile Applications</td><td>Microsoft Internet Explorer 11</td><tr><td>2014-12-03 00:00:00</td><td>Wed.  3 Dec. 2014</td><td>2</td><td>1</td><td>DevConnection: Get Started: Content Page: Measuring and Optimizing Mobile Applications</td><td>Mozilla Firefox 32.0</td><tr><td>2014-12-03 00:00:00</td><td>Wed.  3 Dec. 2014</td><td>1</td><td>1</td><td>DevConnection: Get Started: Content Page: Measuring and Optimizing Mobile Applications</td><td>Mozilla Firefox 31.0</td><tr><td>2014-12-03 00:00:00</td><td>Wed.  3 Dec. 2014</td><td>1</td><td>1</td><td>DevConnection: Get Started: Content Page: Measuring and Optimizing Mobile Applications</td><td>Safari 7.0.5</td><tr><td>2014-12-03 00:00:00</td><td>Wed.  3 Dec. 2014</td><td>1</td><td>1</td><td>DevConnection: Get Started: Content Page: Measuring and Optimizing Mobile Applications</td><td>SouGou Browser</td><tr><td>2014-12-03 00:00:00</td><td>Wed.  3 Dec. 2014</td><td>41</td><td>37</td><td>Other</td><td>Google Chrome (unknown version)</td><tr><td>2014-12-03 00:00:00</td><td>Wed.  3 Dec. 2014</td><td>10</td><td>10</td><td>Other</td><td>Mozilla Firefox (unknown version)</td><tr><td>2014-12-03 00:00:00</td><td>Wed.  3 Dec. 2014</td><td>5</td><td>5</td><td>Other</td><td>Google Chrome 38.0</td><tr><td>2014-12-03 00:00:00</td><td>Wed.  3 Dec. 2014</td><td>4</td><td>4</td><td>Other</td><td>Safari (unknown version)</td><tr><td>2014-12-03 00:00:00</td><td>Wed.  3 Dec. 2014</td><td>2</td><td>2</td><td>Other</td><td>Google Chrome 31.0</td><tr><td>2014-12-03 00:00:00</td><td>Wed.  3 Dec. 2014</td><td>2</td><td>2</td><td>Other</td><td>Microsoft Internet Explorer 11</td><tr><td>2014-12-03 00:00:00</td><td>Wed.  3 Dec. 2014</td><td>2</td><td>2</td><td>Other</td><td>Microsoft Internet Explorer 8</td><tr><td>2014-12-03 00:00:00</td><td>Wed.  3 Dec. 2014</td><td>2</td><td>1</td><td>Other</td><td>SouGou Browser</td><tr><td>2014-12-03 00:00:00</td><td>Wed.  3 Dec. 2014</td><td>1</td><td>1</td><td>Other</td><td>Mozilla Firefox 31.0</td><tr><td>2014-12-03 00:00:00</td><td>Wed.  3 Dec. 2014</td><td>1</td><td>1</td><td>Other</td><td>Mozilla Firefox 30.0</td><tr><td>2014-12-03 00:00:00</td><td>Wed.  3 Dec. 2014</td><td>36</td><td>34</td><td>DevConnection: Documentation</td><td>Google Chrome (unknown version)</td><tr><td>2014-12-03 00:00:00</td><td>Wed.  3 Dec. 2014</td><td>9</td><td>9</td><td>DevConnection: Documentation</td><td>Mozilla Firefox (unknown version)</td><tr><td>2014-12-03 00:00:00</td><td>Wed.  3 Dec. 2014</td><td>4</td><td>4</td><td>DevConnection: Documentation</td><td>Google Chrome 38.0</td><tr><td>2014-12-03 00:00:00</td><td>Wed.  3 Dec. 2014</td><td>3</td><td>3</td><td>DevConnection: Documentation</td><td>Safari 8.0</td><tr><td>2014-12-03 00:00:00</td><td>Wed.  3 Dec. 2014</td><td>3</td><td>3</td><td>DevConnection: Documentation</td><td>Safari (unknown version)</td><tr><td>2014-12-03 00:00:00</td><td>Wed.  3 Dec. 2014</td><td>2</td><td>2</td><td>DevConnection: Documentation</td><td>Mozilla Firefox 31.0</td><tr><td>2014-12-03 00:00:00</td><td>Wed.  3 Dec. 2014</td><td>2</td><td>2</td><td>DevConnection: Documentation</td><td>Google Chrome 37.0</td><tr><td>2014-12-03 00:00:00</td><td>Wed.  3 Dec. 2014</td><td>2</td><td>2</td><td>DevConnection: Documentation</td><td>Microsoft Internet Explorer 11</td><tr><td>2014-12-03 00:00:00</td><td>Wed.  3 Dec. 2014</td><td>1</td><td>1</td><td>DevConnection: Documentation</td><td>Chrome Mobile 39.0.2171</td><tr><td>2014-12-03 00:00:00</td><td>Wed.  3 Dec. 2014</td><td>1</td><td>1</td><td>DevConnection: Documentation</td><td>Mobile Safari 5.1</td><tr><td>2014-12-03 00:00:00</td><td>Wed.  3 Dec. 2014</td><td>21</td><td>20</td><td>DevConnection: Documentation: Page: HTTP GET Sample</td><td>Google Chrome (unknown version)</td><tr><td>2014-12-03 00:00:00</td><td>Wed.  3 Dec. 2014</td><td>6</td><td>6</td><td>DevConnection: Documentation: Page: HTTP GET Sample</td><td>Mozilla Firefox (unknown version)</td><tr><td>2014-12-03 00:00:00</td><td>Wed.  3 Dec. 2014</td><td>4</td><td>4</td><td>DevConnection: Documentation: Page: HTTP GET Sample</td><td>Google Chrome 38.0</td><tr><td>2014-12-03 00:00:00</td><td>Wed.  3 Dec. 2014</td><td>3</td><td>3</td><td>DevConnection: Documentation: Page: HTTP GET Sample</td><td>Google Chrome 37.0</td><tr><td>2014-12-03 00:00:00</td><td>Wed.  3 Dec. 2014</td><td>2</td><td>2</td><td>DevConnection: Documentation: Page: HTTP GET Sample</td><td>Mozilla Firefox 31.0</td><tr><td>2014-12-03 00:00:00</td><td>Wed.  3 Dec. 2014</td><td>2</td><td>2</td><td>DevConnection: Documentation: Page: HTTP GET Sample</td><td>Microsoft Internet Explorer 10</td><tr><td>2014-12-03 00:00:00</td><td>Wed.  3 Dec. 2014</td><td>1</td><td>1</td><td>DevConnection: Documentation: Page: HTTP GET Sample</td><td>Safari 7.0.3</td><tr><td>2014-12-03 00:00:00</td><td>Wed.  3 Dec. 2014</td><td>1</td><td>1</td><td>DevConnection: Documentation: Page: HTTP GET Sample</td><td>Safari 8.0</td><tr><td>2014-12-03 00:00:00</td><td>Wed.  3 Dec. 2014</td><td>1</td><td>1</td><td>DevConnection: Documentation: Page: HTTP GET Sample</td><td>Google Chrome 36.0</td><tr><td>2014-12-03 00:00:00</td><td>Wed.  3 Dec. 2014</td><td>1</td><td>1</td><td>DevConnection: Documentation: Page: HTTP GET Sample</td><td>Google Chrome 32.0</td><tr><td>2014-12-03 00:00:00</td><td>Wed.  3 Dec. 2014</td><td>24</td><td>24</td><td>DevConnection: Get Started: Content Page: Report Builder</td><td>Google Chrome (unknown version)</td><tr><td>2014-12-03 00:00:00</td><td>Wed.  3 Dec. 2014</td><td>9</td><td>8</td><td>DevConnection: Get Started: Content Page: Report Builder</td><td>Mozilla Firefox (unknown version)</td><tr><td>2014-12-03 00:00:00</td><td>Wed.  3 Dec. 2014</td><td>3</td><td>3</td><td>DevConnection: Get Started: Content Page: Report Builder</td><td>Microsoft Internet Explorer 11</td><tr><td>2014-12-03 00:00:00</td><td>Wed.  3 Dec. 2014</td><td>3</td><td>1</td><td>DevConnection: Get Started: Content Page: Report Builder</td><td>Chrome Mobile 36.0.1985</td><tr><td>2014-12-03 00:00:00</td><td>Wed.  3 Dec. 2014</td><td>1</td><td>1</td><td>DevConnection: Get Started: Content Page: Report Builder</td><td>Android Browser 4.0</td><tr><td>2014-12-03 00:00:00</td><td>Wed.  3 Dec. 2014</td><td>1</td><td>1</td><td>DevConnection: Get Started: Content Page: Report Builder</td><td>Google Chrome 38.0</td><tr><td>2014-12-03 00:00:00</td><td>Wed.  3 Dec. 2014</td><td>1</td><td>1</td><td>DevConnection: Get Started: Content Page: Report Builder</td><td>Google Chrome 34.0</td><tr><td>2014-12-03 00:00:00</td><td>Wed.  3 Dec. 2014</td><td>1</td><td>1</td><td>DevConnection: Get Started: Content Page: Report Builder</td><td>Mozilla Firefox 27.0</td><tr><td>2014-12-03 00:00:00</td><td>Wed.  3 Dec. 2014</td><td>1</td><td>1</td><td>DevConnection: Get Started: Content Page: Report Builder</td><td>Microsoft Internet Explorer 10</td><tr><td>2014-12-03 00:00:00</td><td>Wed.  3 Dec. 2014</td><td>1</td><td>1</td><td>DevConnection: Get Started: Content Page: Report Builder</td><td>Microsoft Internet Explorer 9</td><tr><td>2014-12-03 00:00:00</td><td>Wed.  3 Dec. 2014</td><td>22</td><td>20</td><td>DevConnection: Documentation: Page: Methods</td><td>Google Chrome (unknown version)</td><tr><td>2014-12-03 00:00:00</td><td>Wed.  3 Dec. 2014</td><td>8</td><td>7</td><td>DevConnection: Documentation: Page: Methods</td><td>Mozilla Firefox (unknown version)</td><tr><td>2014-12-03 00:00:00</td><td>Wed.  3 Dec. 2014</td><td>4</td><td>4</td><td>DevConnection: Documentation: Page: Methods</td><td>Google Chrome 38.0</td><tr><td>2014-12-03 00:00:00</td><td>Wed.  3 Dec. 2014</td><td>1</td><td>1</td><td>DevConnection: Documentation: Page: Methods</td><td>Mozilla Firefox 31.0</td><tr><td>2014-12-03 00:00:00</td><td>Wed.  3 Dec. 2014</td><td>1</td><td>1</td><td>DevConnection: Documentation: Page: Methods</td><td>Safari 8.0</td><tr><td>2014-12-03 00:00:00</td><td>Wed.  3 Dec. 2014</td><td>1</td><td>1</td><td>DevConnection: Documentation: Page: Methods</td><td>Google Chrome 31.0</td><tr><td>2014-12-03 00:00:00</td><td>Wed.  3 Dec. 2014</td><td>1</td><td>1</td><td>DevConnection: Documentation: Page: Methods</td><td>Microsoft Internet Explorer 9</td><tr><td>2014-12-03 00:00:00</td><td>Wed.  3 Dec. 2014</td><td>27</td><td>24</td><td>DevConnection: Documentation: Page: Analytics Reporting API</td><td>Google Chrome (unknown version)</td><tr><td>2014-12-03 00:00:00</td><td>Wed.  3 Dec. 2014</td><td>7</td><td>7</td><td>DevConnection: Documentation: Page: Analytics Reporting API</td><td>Google Chrome 38.0</td><tr><td>2014-12-03 00:00:00</td><td>Wed.  3 Dec. 2014</td><td>7</td><td>7</td><td>DevConnection: Documentation: Page: Analytics Reporting API</td><td>Mozilla Firefox (unknown version)</td><tr><td>2014-12-03 00:00:00</td><td>Wed.  3 Dec. 2014</td><td>1</td><td>1</td><td>DevConnection: Documentation: Page: Analytics Reporting API</td><td>Mobile Safari 5.1</td><tr><td>2014-12-03 00:00:00</td><td>Wed.  3 Dec. 2014</td><td>1</td><td>1</td><td>DevConnection: Documentation: Page: Analytics Reporting API</td><td>Android Browser 4.0</td><tr><td>2014-12-03 00:00:00</td><td>Wed.  3 Dec. 2014</td><td>1</td><td>1</td><td>DevConnection: Documentation: Page: Analytics Reporting API</td><td>Safari 8.0</td><tr><td>2014-12-03 00:00:00</td><td>Wed.  3 Dec. 2014</td><td>1</td><td>1</td><td>DevConnection: Documentation: Page: Analytics Reporting API</td><td>Google Chrome 37.0</td><tr><td>2014-12-03 00:00:00</td><td>Wed.  3 Dec. 2014</td><td>1</td><td>1</td><td>DevConnection: Documentation: Page: Analytics Reporting API</td><td>Google Chrome 36.0</td><tr><td>2014-12-03 00:00:00</td><td>Wed.  3 Dec. 2014</td><td>1</td><td>1</td><td>DevConnection: Documentation: Page: Analytics Reporting API</td><td>Mozilla Firefox 24.0</td><tr><td>2014-12-03 00:00:00</td><td>Wed.  3 Dec. 2014</td><td>1</td><td>1</td><td>DevConnection: Documentation: Page: Analytics Reporting API</td><td>Microsoft Internet Explorer 11</td><tr><td>2014-12-03 00:00:00</td><td>Wed.  3 Dec. 2014</td><td>23</td><td>21</td><td>DevConnection: Documentation: Page: Getting Started</td><td>Google Chrome (unknown version)</td><tr><td>2014-12-03 00:00:00</td><td>Wed.  3 Dec. 2014</td><td>8</td><td>8</td><td>DevConnection: Documentation: Page: Getting Started</td><td>Mozilla Firefox (unknown version)</td><tr><td>2014-12-03 00:00:00</td><td>Wed.  3 Dec. 2014</td><td>4</td><td>4</td><td>DevConnection: Documentation: Page: Getting Started</td><td>Google Chrome 38.0</td><tr><td>2014-12-03 00:00:00</td><td>Wed.  3 Dec. 2014</td><td>2</td><td>2</td><td>DevConnection: Documentation: Page: Getting Started</td><td>Mozilla Firefox 31.0</td><tr><td>2014-12-03 00:00:00</td><td>Wed.  3 Dec. 2014</td><td>1</td><td>1</td><td>DevConnection: Documentation: Page: Getting Started</td><td>Chrome Mobile 38.0.2125</td><tr><td>2014-12-03 00:00:00</td><td>Wed.  3 Dec. 2014</td><td>1</td><td>1</td><td>DevConnection: Documentation: Page: Getting Started</td><td>Mobile Safari 5.1</td><tr><td>2014-12-03 00:00:00</td><td>Wed.  3 Dec. 2014</td><td>1</td><td>1</td><td>DevConnection: Documentation: Page: Getting Started</td><td>Mozilla Firefox 32.0</td><tr><td>2014-12-03 00:00:00</td><td>Wed.  3 Dec. 2014</td><td>1</td><td>1</td><td>DevConnection: Documentation: Page: Getting Started</td><td>Safari 8.0</td><tr><td>2014-12-03 00:00:00</td><td>Wed.  3 Dec. 2014</td><td>1</td><td>1</td><td>DevConnection: Documentation: Page: Getting Started</td><td>Google Chrome 31.0</td><tr><td>2014-12-03 00:00:00</td><td>Wed.  3 Dec. 2014</td><td>1</td><td>1</td><td>DevConnection: Documentation: Page: Getting Started</td><td>Microsoft Internet Explorer 11</td><tr><td>2014-12-04 00:00:00</td><td>Thu.  4 Dec. 2014</td><td>73</td><td>64</td><td>DevConnection: Home</td><td>Google Chrome (unknown version)</td><tr><td>2014-12-04 00:00:00</td><td>Thu.  4 Dec. 2014</td><td>40</td><td>34</td><td>DevConnection: Home</td><td>Mozilla Firefox (unknown version)</td><tr><td>2014-12-04 00:00:00</td><td>Thu.  4 Dec. 2014</td><td>11</td><td>8</td><td>DevConnection: Home</td><td>Google Chrome 38.0</td><tr><td>2014-12-04 00:00:00</td><td>Thu.  4 Dec. 2014</td><td>6</td><td>5</td><td>DevConnection: Home</td><td>Safari 8.0</td><tr><td>2014-12-04 00:00:00</td><td>Thu.  4 Dec. 2014</td><td>4</td><td>4</td><td>DevConnection: Home</td><td>Microsoft Internet Explorer 9</td><tr><td>2014-12-04 00:00:00</td><td>Thu.  4 Dec. 2014</td><td>3</td><td>3</td><td>DevConnection: Home</td><td>Microsoft Internet Explorer 11</td><tr><td>2014-12-04 00:00:00</td><td>Thu.  4 Dec. 2014</td><td>3</td><td>2</td><td>DevConnection: Home</td><td>Google Chrome 31.0</td><tr><td>2014-12-04 00:00:00</td><td>Thu.  4 Dec. 2014</td><td>2</td><td>2</td><td>DevConnection: Home</td><td>Google Chrome 26.0</td><tr><td>2014-12-04 00:00:00</td><td>Thu.  4 Dec. 2014</td><td>2</td><td>1</td><td>DevConnection: Home</td><td>Mozilla Firefox 31.0</td><tr><td>2014-12-04 00:00:00</td><td>Thu.  4 Dec. 2014</td><td>2</td><td>1</td><td>DevConnection: Home</td><td>Chrome Mobile 39.0.2171</td><tr><td>2014-12-04 00:00:00</td><td>Thu.  4 Dec. 2014</td><td>80</td><td>61</td><td>DevConnection: Get Started: API Explorer</td><td>Google Chrome (unknown version)</td><tr><td>2014-12-04 00:00:00</td><td>Thu.  4 Dec. 2014</td><td>29</td><td>24</td><td>DevConnection: Get Started: API Explorer</td><td>Mozilla Firefox (unknown version)</td><tr><td>2014-12-04 00:00:00</td><td>Thu.  4 Dec. 2014</td><td>6</td><td>6</td><td>DevConnection: Get Started: API Explorer</td><td>Google Chrome 38.0</td><tr><td>2014-12-04 00:00:00</td><td>Thu.  4 Dec. 2014</td><td>5</td><td>4</td><td>DevConnection: Get Started: API Explorer</td><td>Mozilla Firefox 32.0</td><tr><td>2014-12-04 00:00:00</td><td>Thu.  4 Dec. 2014</td><td>5</td><td>4</td><td>DevConnection: Get Started: API Explorer</td><td>Microsoft Internet Explorer 9</td><tr><td>2014-12-04 00:00:00</td><td>Thu.  4 Dec. 2014</td><td>4</td><td>3</td><td>DevConnection: Get Started: API Explorer</td><td>Safari 8.0</td><tr><td>2014-12-04 00:00:00</td><td>Thu.  4 Dec. 2014</td><td>2</td><td>2</td><td>DevConnection: Get Started: API Explorer</td><td>Mozilla Firefox 31.0</td><tr><td>2014-12-04 00:00:00</td><td>Thu.  4 Dec. 2014</td><td>2</td><td>2</td><td>DevConnection: Get Started: API Explorer</td><td>Microsoft Internet Explorer 11</td><tr><td>2014-12-04 00:00:00</td><td>Thu.  4 Dec. 2014</td><td>2</td><td>1</td><td>DevConnection: Get Started: API Explorer</td><td>Google Chrome 36.0</td><tr><td>2014-12-04 00:00:00</td><td>Thu.  4 Dec. 2014</td><td>1</td><td>1</td><td>DevConnection: Get Started: API Explorer</td><td>Android Browser 4.0</td><tr><td>2014-12-04 00:00:00</td><td>Thu.  4 Dec. 2014</td><td>55</td><td>49</td><td>DevConnection: Get Started: Content Page: Measuring and Optimizing Mobile Applications</td><td>Google Chrome (unknown version)</td><tr><td>2014-12-04 00:00:00</td><td>Thu.  4 Dec. 2014</td><td>14</td><td>12</td><td>DevConnection: Get Started: Content Page: Measuring and Optimizing Mobile Applications</td><td>Mozilla Firefox (unknown version)</td><tr><td>2014-12-04 00:00:00</td><td>Thu.  4 Dec. 2014</td><td>11</td><td>9</td><td>DevConnection: Get Started: Content Page: Measuring and Optimizing Mobile Applications</td><td>Safari 8.0</td><tr><td>2014-12-04 00:00:00</td><td>Thu.  4 Dec. 2014</td><td>4</td><td>3</td><td>DevConnection: Get Started: Content Page: Measuring and Optimizing Mobile Applications</td><td>Google Chrome 38.0</td><tr><td>2014-12-04 00:00:00</td><td>Thu.  4 Dec. 2014</td><td>2</td><td>2</td><td>DevConnection: Get Started: Content Page: Measuring and Optimizing Mobile Applications</td><td>Google Chrome 34.0</td><tr><td>2014-12-04 00:00:00</td><td>Thu.  4 Dec. 2014</td><td>2</td><td>2</td><td>DevConnection: Get Started: Content Page: Measuring and Optimizing Mobile Applications</td><td>Microsoft Internet Explorer 11</td><tr><td>2014-12-04 00:00:00</td><td>Thu.  4 Dec. 2014</td><td>2</td><td>2</td><td>DevConnection: Get Started: Content Page: Measuring and Optimizing Mobile Applications</td><td>Microsoft Internet Explorer 9</td><tr><td>2014-12-04 00:00:00</td><td>Thu.  4 Dec. 2014</td><td>2</td><td>2</td><td>DevConnection: Get Started: Content Page: Measuring and Optimizing Mobile Applications</td><td>Microsoft Internet Explorer 8</td><tr><td>2014-12-04 00:00:00</td><td>Thu.  4 Dec. 2014</td><td>2</td><td>2</td><td>DevConnection: Get Started: Content Page: Measuring and Optimizing Mobile Applications</td><td>Safari (unknown version)</td><tr><td>2014-12-04 00:00:00</td><td>Thu.  4 Dec. 2014</td><td>2</td><td>1</td><td>DevConnection: Get Started: Content Page: Measuring and Optimizing Mobile Applications</td><td>Google Chrome 31.0</td><tr><td>2014-12-04 00:00:00</td><td>Thu.  4 Dec. 2014</td><td>42</td><td>37</td><td>Other</td><td>Google Chrome (unknown version)</td><tr><td>2014-12-04 00:00:00</td><td>Thu.  4 Dec. 2014</td><td>18</td><td>16</td><td>Other</td><td>Mozilla Firefox (unknown version)</td><tr><td>2014-12-04 00:00:00</td><td>Thu.  4 Dec. 2014</td><td>4</td><td>3</td><td>Other</td><td>Microsoft Internet Explorer 10</td><tr><td>2014-12-04 00:00:00</td><td>Thu.  4 Dec. 2014</td><td>3</td><td>3</td><td>Other</td><td>Safari 8.0</td><tr><td>2014-12-04 00:00:00</td><td>Thu.  4 Dec. 2014</td><td>3</td><td>2</td><td>Other</td><td>Microsoft Internet Explorer 9</td><tr><td>2014-12-04 00:00:00</td><td>Thu.  4 Dec. 2014</td><td>3</td><td>1</td><td>Other</td><td>Google Chrome 31.0</td><tr><td>2014-12-04 00:00:00</td><td>Thu.  4 Dec. 2014</td><td>2</td><td>2</td><td>Other</td><td>Google Chrome 38.0</td><tr><td>2014-12-04 00:00:00</td><td>Thu.  4 Dec. 2014</td><td>2</td><td>2</td><td>Other</td><td>Google Chrome 37.0</td><tr><td>2014-12-04 00:00:00</td><td>Thu.  4 Dec. 2014</td><td>2</td><td>2</td><td>Other</td><td>Google Chrome 26.0</td><tr><td>2014-12-04 00:00:00</td><td>Thu.  4 Dec. 2014</td><td>2</td><td>1</td><td>Other</td><td>Mozilla Firefox 31.0</td><tr><td>2014-12-04 00:00:00</td><td>Thu.  4 Dec. 2014</td><td>23</td><td>21</td><td>DevConnection: Documentation</td><td>Google Chrome (unknown version)</td><tr><td>2014-12-04 00:00:00</td><td>Thu.  4 Dec. 2014</td><td>20</td><td>18</td><td>DevConnection: Documentation</td><td>Mozilla Firefox (unknown version)</td><tr><td>2014-12-04 00:00:00</td><td>Thu.  4 Dec. 2014</td><td>4</td><td>4</td><td>DevConnection: Documentation</td><td>Google Chrome 38.0</td><tr><td>2014-12-04 00:00:00</td><td>Thu.  4 Dec. 2014</td><td>4</td><td>3</td><td>DevConnection: Documentation</td><td>Mozilla Firefox 31.0</td><tr><td>2014-12-04 00:00:00</td><td>Thu.  4 Dec. 2014</td><td>4</td><td>2</td><td>DevConnection: Documentation</td><td>Microsoft Internet Explorer 9</td><tr><td>2014-12-04 00:00:00</td><td>Thu.  4 Dec. 2014</td><td>2</td><td>2</td><td>DevConnection: Documentation</td><td>Google Chrome 37.0</td><tr><td>2014-12-04 00:00:00</td><td>Thu.  4 Dec. 2014</td><td>2</td><td>2</td><td>DevConnection: Documentation</td><td>Microsoft Internet Explorer 10</td><tr><td>2014-12-04 00:00:00</td><td>Thu.  4 Dec. 2014</td><td>2</td><td>2</td><td>DevConnection: Documentation</td><td>Microsoft Internet Explorer 8</td><tr><td>2014-12-04 00:00:00</td><td>Thu.  4 Dec. 2014</td><td>2</td><td>2</td><td>DevConnection: Documentation</td><td>Safari (unknown version)</td><tr><td>2014-12-04 00:00:00</td><td>Thu.  4 Dec. 2014</td><td>1</td><td>1</td><td>DevConnection: Documentation</td><td>Safari 8.0</td><tr><td>2014-12-04 00:00:00</td><td>Thu.  4 Dec. 2014</td><td>27</td><td>27</td><td>DevConnection: Documentation: Page: HTTP GET Sample</td><td>Google Chrome (unknown version)</td><tr><td>2014-12-04 00:00:00</td><td>Thu.  4 Dec. 2014</td><td>8</td><td>8</td><td>DevConnection: Documentation: Page: HTTP GET Sample</td><td>Mozilla Firefox (unknown version)</td><tr><td>2014-12-04 00:00:00</td><td>Thu.  4 Dec. 2014</td><td>3</td><td>3</td><td>DevConnection: Documentation: Page: HTTP GET Sample</td><td>Google Chrome 37.0</td><tr><td>2014-12-04 00:00:00</td><td>Thu.  4 Dec. 2014</td><td>2</td><td>2</td><td>DevConnection: Documentation: Page: HTTP GET Sample</td><td>Mozilla Firefox 31.0</td><tr><td>2014-12-04 00:00:00</td><td>Thu.  4 Dec. 2014</td><td>1</td><td>1</td><td>DevConnection: Documentation: Page: HTTP GET Sample</td><td>Mozilla Firefox 28.0</td><tr><td>2014-12-04 00:00:00</td><td>Thu.  4 Dec. 2014</td><td>1</td><td>1</td><td>DevConnection: Documentation: Page: HTTP GET Sample</td><td>Mozilla Firefox 30.0</td><tr><td>2014-12-04 00:00:00</td><td>Thu.  4 Dec. 2014</td><td>1</td><td>1</td><td>DevConnection: Documentation: Page: HTTP GET Sample</td><td>Safari 8.0</td><tr><td>2014-12-04 00:00:00</td><td>Thu.  4 Dec. 2014</td><td>1</td><td>1</td><td>DevConnection: Documentation: Page: HTTP GET Sample</td><td>Google Chrome 38.0</td><tr><td>2014-12-04 00:00:00</td><td>Thu.  4 Dec. 2014</td><td>1</td><td>1</td><td>DevConnection: Documentation: Page: HTTP GET Sample</td><td>Safari (unknown version)</td><tr><td>2014-12-04 00:00:00</td><td>Thu.  4 Dec. 2014</td><td>29</td><td>27</td><td>DevConnection: Get Started: Content Page: Report Builder</td><td>Google Chrome (unknown version)</td><tr><td>2014-12-04 00:00:00</td><td>Thu.  4 Dec. 2014</td><td>11</td><td>11</td><td>DevConnection: Get Started: Content Page: Report Builder</td><td>Mozilla Firefox (unknown version)</td><tr><td>2014-12-04 00:00:00</td><td>Thu.  4 Dec. 2014</td><td>3</td><td>3</td><td>DevConnection: Get Started: Content Page: Report Builder</td><td>Google Chrome 38.0</td><tr><td>2014-12-04 00:00:00</td><td>Thu.  4 Dec. 2014</td><td>3</td><td>3</td><td>DevConnection: Get Started: Content Page: Report Builder</td><td>Google Chrome 35.0</td><tr><td>2014-12-04 00:00:00</td><td>Thu.  4 Dec. 2014</td><td>3</td><td>3</td><td>DevConnection: Get Started: Content Page: Report Builder</td><td>Microsoft Internet Explorer 9</td><tr><td>2014-12-04 00:00:00</td><td>Thu.  4 Dec. 2014</td><td>2</td><td>1</td><td>DevConnection: Get Started: Content Page: Report Builder</td><td>Google Chrome 36.0</td><tr><td>2014-12-04 00:00:00</td><td>Thu.  4 Dec. 2014</td><td>1</td><td>1</td><td>DevConnection: Get Started: Content Page: Report Builder</td><td>Mozilla Firefox 32.0</td><tr><td>2014-12-04 00:00:00</td><td>Thu.  4 Dec. 2014</td><td>1</td><td>1</td><td>DevConnection: Get Started: Content Page: Report Builder</td><td>Safari 8.0</td><tr><td>2014-12-04 00:00:00</td><td>Thu.  4 Dec. 2014</td><td>1</td><td>1</td><td>DevConnection: Get Started: Content Page: Report Builder</td><td>Google Chrome 37.0</td><tr><td>2014-12-04 00:00:00</td><td>Thu.  4 Dec. 2014</td><td>1</td><td>1</td><td>DevConnection: Get Started: Content Page: Report Builder</td><td>Microsoft Internet Explorer 11</td><tr><td>2014-12-04 00:00:00</td><td>Thu.  4 Dec. 2014</td><td>25</td><td>21</td><td>DevConnection: Documentation: Page: Methods</td><td>Google Chrome (unknown version)</td><tr><td>2014-12-04 00:00:00</td><td>Thu.  4 Dec. 2014</td><td>11</td><td>10</td><td>DevConnection: Documentation: Page: Methods</td><td>Mozilla Firefox (unknown version)</td><tr><td>2014-12-04 00:00:00</td><td>Thu.  4 Dec. 2014</td><td>3</td><td>2</td><td>DevConnection: Documentation: Page: Methods</td><td>Google Chrome 38.0</td><tr><td>2014-12-04 00:00:00</td><td>Thu.  4 Dec. 2014</td><td>2</td><td>2</td><td>DevConnection: Documentation: Page: Methods</td><td>Mozilla Firefox 31.0</td><tr><td>2014-12-04 00:00:00</td><td>Thu.  4 Dec. 2014</td><td>2</td><td>2</td><td>DevConnection: Documentation: Page: Methods</td><td>Safari 8.0</td><tr><td>2014-12-04 00:00:00</td><td>Thu.  4 Dec. 2014</td><td>2</td><td>1</td><td>DevConnection: Documentation: Page: Methods</td><td>Google Chrome 31.0</td><tr><td>2014-12-04 00:00:00</td><td>Thu.  4 Dec. 2014</td><td>1</td><td>1</td><td>DevConnection: Documentation: Page: Methods</td><td>Mozilla Firefox 32.0</td><tr><td>2014-12-04 00:00:00</td><td>Thu.  4 Dec. 2014</td><td>1</td><td>1</td><td>DevConnection: Documentation: Page: Methods</td><td>Chrome Mobile 18.0.1025</td><tr><td>2014-12-04 00:00:00</td><td>Thu.  4 Dec. 2014</td><td>1</td><td>1</td><td>DevConnection: Documentation: Page: Methods</td><td>Microsoft Internet Explorer 9</td><tr><td>2014-12-04 00:00:00</td><td>Thu.  4 Dec. 2014</td><td>20</td><td>20</td><td>DevConnection: Documentation: Page: Analytics Reporting API</td><td>Google Chrome (unknown version)</td><tr><td>2014-12-04 00:00:00</td><td>Thu.  4 Dec. 2014</td><td>8</td><td>8</td><td>DevConnection: Documentation: Page: Analytics Reporting API</td><td>Mozilla Firefox (unknown version)</td><tr><td>2014-12-04 00:00:00</td><td>Thu.  4 Dec. 2014</td><td>3</td><td>2</td><td>DevConnection: Documentation: Page: Analytics Reporting API</td><td>Safari 8.0</td><tr><td>2014-12-04 00:00:00</td><td>Thu.  4 Dec. 2014</td><td>2</td><td>1</td><td>DevConnection: Documentation: Page: Analytics Reporting API</td><td>Mozilla Firefox 31.0</td><tr><td>2014-12-04 00:00:00</td><td>Thu.  4 Dec. 2014</td><td>1</td><td>1</td><td>DevConnection: Documentation: Page: Analytics Reporting API</td><td>Google Chrome 17.0</td><tr><td>2014-12-04 00:00:00</td><td>Thu.  4 Dec. 2014</td><td>21</td><td>20</td><td>DevConnection: Documentation: Page: Getting Started</td><td>Google Chrome (unknown version)</td><tr><td>2014-12-04 00:00:00</td><td>Thu.  4 Dec. 2014</td><td>12</td><td>11</td><td>DevConnection: Documentation: Page: Getting Started</td><td>Mozilla Firefox (unknown version)</td><tr><td>2014-12-04 00:00:00</td><td>Thu.  4 Dec. 2014</td><td>3</td><td>3</td><td>DevConnection: Documentation: Page: Getting Started</td><td>Google Chrome 38.0</td><tr><td>2014-12-04 00:00:00</td><td>Thu.  4 Dec. 2014</td><td>3</td><td>2</td><td>DevConnection: Documentation: Page: Getting Started</td><td>Mozilla Firefox 31.0</td><tr><td>2014-12-04 00:00:00</td><td>Thu.  4 Dec. 2014</td><td>3</td><td>1</td><td>DevConnection: Documentation: Page: Getting Started</td><td>Microsoft Internet Explorer 9</td><tr><td>2014-12-04 00:00:00</td><td>Thu.  4 Dec. 2014</td><td>2</td><td>1</td><td>DevConnection: Documentation: Page: Getting Started</td><td>Google Chrome 31.0</td><tr><td>2014-12-04 00:00:00</td><td>Thu.  4 Dec. 2014</td><td>1</td><td>1</td><td>DevConnection: Documentation: Page: Getting Started</td><td>Mobile Safari 5.1</td><tr><td>2014-12-04 00:00:00</td><td>Thu.  4 Dec. 2014</td><td>1</td><td>1</td><td>DevConnection: Documentation: Page: Getting Started</td><td>Mozilla Firefox 32.0</td><tr><td>2014-12-04 00:00:00</td><td>Thu.  4 Dec. 2014</td><td>1</td><td>1</td><td>DevConnection: Documentation: Page: Getting Started</td><td>Safari 8.0</td><tr><td>2014-12-04 00:00:00</td><td>Thu.  4 Dec. 2014</td><td>1</td><td>1</td><td>DevConnection: Documentation: Page: Getting Started</td><td>Chrome Mobile 18.0.1025</td><tr><td>2014-12-05 00:00:00</td><td>Fri.  5 Dec. 2014</td><td>59</td><td>55</td><td>DevConnection: Home</td><td>Google Chrome (unknown version)</td><tr><td>2014-12-05 00:00:00</td><td>Fri.  5 Dec. 2014</td><td>36</td><td>33</td><td>DevConnection: Home</td><td>Mozilla Firefox (unknown version)</td><tr><td>2014-12-05 00:00:00</td><td>Fri.  5 Dec. 2014</td><td>3</td><td>2</td><td>DevConnection: Home</td><td>Safari (unknown version)</td><tr><td>2014-12-05 00:00:00</td><td>Fri.  5 Dec. 2014</td><td>2</td><td>2</td><td>DevConnection: Home</td><td>Safari 7.0.5</td><tr><td>2014-12-05 00:00:00</td><td>Fri.  5 Dec. 2014</td><td>2</td><td>2</td><td>DevConnection: Home</td><td>Safari 8.0</td><tr><td>2014-12-05 00:00:00</td><td>Fri.  5 Dec. 2014</td><td>2</td><td>2</td><td>DevConnection: Home</td><td>Google Chrome 38.0</td><tr><td>2014-12-05 00:00:00</td><td>Fri.  5 Dec. 2014</td><td>2</td><td>2</td><td>DevConnection: Home</td><td>Microsoft Internet Explorer 11</td><tr><td>2014-12-05 00:00:00</td><td>Fri.  5 Dec. 2014</td><td>2</td><td>2</td><td>DevConnection: Home</td><td>Safari 0.8.2</td><tr><td>2014-12-05 00:00:00</td><td>Fri.  5 Dec. 2014</td><td>1</td><td>1</td><td>DevConnection: Home</td><td>Mozilla Firefox 31.0</td><tr><td>2014-12-05 00:00:00</td><td>Fri.  5 Dec. 2014</td><td>1</td><td>1</td><td>DevConnection: Home</td><td>Mozilla Firefox 29.0</td><tr><td>2014-12-05 00:00:00</td><td>Fri.  5 Dec. 2014</td><td>61</td><td>53</td><td>DevConnection: Get Started: API Explorer</td><td>Google Chrome (unknown version)</td><tr><td>2014-12-05 00:00:00</td><td>Fri.  5 Dec. 2014</td><td>20</td><td>17</td><td>DevConnection: Get Started: API Explorer</td><td>Mozilla Firefox (unknown version)</td><tr><td>2014-12-05 00:00:00</td><td>Fri.  5 Dec. 2014</td><td>3</td><td>3</td><td>DevConnection: Get Started: API Explorer</td><td>Google Chrome 38.0</td><tr><td>2014-12-05 00:00:00</td><td>Fri.  5 Dec. 2014</td><td>2</td><td>2</td><td>DevConnection: Get Started: API Explorer</td><td>Mozilla Firefox 31.0</td><tr><td>2014-12-05 00:00:00</td><td>Fri.  5 Dec. 2014</td><td>2</td><td>2</td><td>DevConnection: Get Started: API Explorer</td><td>Safari 8.0</td><tr><td>2014-12-05 00:00:00</td><td>Fri.  5 Dec. 2014</td><td>1</td><td>1</td><td>DevConnection: Get Started: API Explorer</td><td>Mobile Safari 7.0</td><tr><td>2014-12-05 00:00:00</td><td>Fri.  5 Dec. 2014</td><td>1</td><td>1</td><td>DevConnection: Get Started: API Explorer</td><td>Mozilla Firefox 32.0</td><tr><td>2014-12-05 00:00:00</td><td>Fri.  5 Dec. 2014</td><td>1</td><td>1</td><td>DevConnection: Get Started: API Explorer</td><td>Safari 7.0.6</td><tr><td>2014-12-05 00:00:00</td><td>Fri.  5 Dec. 2014</td><td>1</td><td>1</td><td>DevConnection: Get Started: API Explorer</td><td>Google Chrome 37.0</td><tr><td>2014-12-05 00:00:00</td><td>Fri.  5 Dec. 2014</td><td>1</td><td>1</td><td>DevConnection: Get Started: API Explorer</td><td>Google Chrome 27.0</td><tr><td>2014-12-05 00:00:00</td><td>Fri.  5 Dec. 2014</td><td>34</td><td>33</td><td>DevConnection: Get Started: Content Page: Measuring and Optimizing Mobile Applications</td><td>Google Chrome (unknown version)</td><tr><td>2014-12-05 00:00:00</td><td>Fri.  5 Dec. 2014</td><td>12</td><td>9</td><td>DevConnection: Get Started: Content Page: Measuring and Optimizing Mobile Applications</td><td>Mozilla Firefox (unknown version)</td><tr><td>2014-12-05 00:00:00</td><td>Fri.  5 Dec. 2014</td><td>4</td><td>4</td><td>DevConnection: Get Started: Content Page: Measuring and Optimizing Mobile Applications</td><td>Safari 8.0</td><tr><td>2014-12-05 00:00:00</td><td>Fri.  5 Dec. 2014</td><td>3</td><td>3</td><td>DevConnection: Get Started: Content Page: Measuring and Optimizing Mobile Applications</td><td>Safari 7.0.6</td><tr><td>2014-12-05 00:00:00</td><td>Fri.  5 Dec. 2014</td><td>2</td><td>2</td><td>DevConnection: Get Started: Content Page: Measuring and Optimizing Mobile Applications</td><td>Safari 7.0.5</td><tr><td>2014-12-05 00:00:00</td><td>Fri.  5 Dec. 2014</td><td>2</td><td>2</td><td>DevConnection: Get Started: Content Page: Measuring and Optimizing Mobile Applications</td><td>Mozilla Firefox 32.0</td><tr><td>2014-12-05 00:00:00</td><td>Fri.  5 Dec. 2014</td><td>2</td><td>2</td><td>DevConnection: Get Started: Content Page: Measuring and Optimizing Mobile Applications</td><td>Safari 0.8.2</td><tr><td>2014-12-05 00:00:00</td><td>Fri.  5 Dec. 2014</td><td>2</td><td>2</td><td>DevConnection: Get Started: Content Page: Measuring and Optimizing Mobile Applications</td><td>Safari (unknown version)</td><tr><td>2014-12-05 00:00:00</td><td>Fri.  5 Dec. 2014</td><td>1</td><td>1</td><td>DevConnection: Get Started: Content Page: Measuring and Optimizing Mobile Applications</td><td>Google Chrome 38.0</td><tr><td>2014-12-05 00:00:00</td><td>Fri.  5 Dec. 2014</td><td>1</td><td>1</td><td>DevConnection: Get Started: Content Page: Measuring and Optimizing Mobile Applications</td><td>Google Chrome 36.0</td><tr><td>2014-12-05 00:00:00</td><td>Fri.  5 Dec. 2014</td><td>28</td><td>27</td><td>Other</td><td>Google Chrome (unknown version)</td><tr><td>2014-12-05 00:00:00</td><td>Fri.  5 Dec. 2014</td><td>10</td><td>10</td><td>Other</td><td>Mozilla Firefox (unknown version)</td><tr><td>2014-12-05 00:00:00</td><td>Fri.  5 Dec. 2014</td><td>1</td><td>1</td><td>Other</td><td>Mozilla Firefox 29.0</td><tr><td>2014-12-05 00:00:00</td><td>Fri.  5 Dec. 2014</td><td>1</td><td>1</td><td>Other</td><td>Android Browser 4.0</td><tr><td>2014-12-05 00:00:00</td><td>Fri.  5 Dec. 2014</td><td>1</td><td>1</td><td>Other</td><td>Google Chrome 38.0</td><tr><td>2014-12-05 00:00:00</td><td>Fri.  5 Dec. 2014</td><td>1</td><td>1</td><td>Other</td><td>Safari 0.8.2</td><tr><td>2014-12-05 00:00:00</td><td>Fri.  5 Dec. 2014</td><td>1</td><td>1</td><td>Other</td><td>Safari (unknown version)</td><tr><td>2014-12-05 00:00:00</td><td>Fri.  5 Dec. 2014</td><td>38</td><td>35</td><td>DevConnection: Documentation</td><td>Google Chrome (unknown version)</td><tr><td>2014-12-05 00:00:00</td><td>Fri.  5 Dec. 2014</td><td>6</td><td>6</td><td>DevConnection: Documentation</td><td>Mozilla Firefox (unknown version)</td><tr><td>2014-12-05 00:00:00</td><td>Fri.  5 Dec. 2014</td><td>3</td><td>3</td><td>DevConnection: Documentation</td><td>Google Chrome 37.0</td><tr><td>2014-12-05 00:00:00</td><td>Fri.  5 Dec. 2014</td><td>1</td><td>1</td><td>DevConnection: Documentation</td><td>Mozilla Firefox 31.0</td><tr><td>2014-12-05 00:00:00</td><td>Fri.  5 Dec. 2014</td><td>1</td><td>1</td><td>DevConnection: Documentation</td><td>Google Chrome 38.0</td><tr><td>2014-12-05 00:00:00</td><td>Fri.  5 Dec. 2014</td><td>1</td><td>1</td><td>DevConnection: Documentation</td><td>Google Chrome 30.0</td><tr><td>2014-12-05 00:00:00</td><td>Fri.  5 Dec. 2014</td><td>17</td><td>17</td><td>DevConnection: Documentation: Page: HTTP GET Sample</td><td>Google Chrome (unknown version)</td><tr><td>2014-12-05 00:00:00</td><td>Fri.  5 Dec. 2014</td><td>7</td><td>7</td><td>DevConnection: Documentation: Page: HTTP GET Sample</td><td>Mozilla Firefox (unknown version)</td><tr><td>2014-12-05 00:00:00</td><td>Fri.  5 Dec. 2014</td><td>3</td><td>3</td><td>DevConnection: Documentation: Page: HTTP GET Sample</td><td>Safari 8.0</td><tr><td>2014-12-05 00:00:00</td><td>Fri.  5 Dec. 2014</td><td>3</td><td>1</td><td>DevConnection: Documentation: Page: HTTP GET Sample</td><td>Safari (unknown version)</td><tr><td>2014-12-05 00:00:00</td><td>Fri.  5 Dec. 2014</td><td>1</td><td>1</td><td>DevConnection: Documentation: Page: HTTP GET Sample</td><td>Mozilla Firefox 30.0</td><tr><td>2014-12-05 00:00:00</td><td>Fri.  5 Dec. 2014</td><td>1</td><td>1</td><td>DevConnection: Documentation: Page: HTTP GET Sample</td><td>Mozilla Firefox 33.0</td><tr><td>2014-12-05 00:00:00</td><td>Fri.  5 Dec. 2014</td><td>1</td><td>1</td><td>DevConnection: Documentation: Page: HTTP GET Sample</td><td>Google Chrome 38.0</td><tr><td>2014-12-05 00:00:00</td><td>Fri.  5 Dec. 2014</td><td>1</td><td>1</td><td>DevConnection: Documentation: Page: HTTP GET Sample</td><td>Google Chrome 35.0</td><tr><td>2014-12-05 00:00:00</td><td>Fri.  5 Dec. 2014</td><td>1</td><td>1</td><td>DevConnection: Documentation: Page: HTTP GET Sample</td><td>Mozilla Firefox 25.0</td><tr><td>2014-12-05 00:00:00</td><td>Fri.  5 Dec. 2014</td><td>12</td><td>12</td><td>DevConnection: Get Started: Content Page: Report Builder</td><td>Google Chrome (unknown version)</td><tr><td>2014-12-05 00:00:00</td><td>Fri.  5 Dec. 2014</td><td>4</td><td>4</td><td>DevConnection: Get Started: Content Page: Report Builder</td><td>Mozilla Firefox (unknown version)</td><tr><td>2014-12-05 00:00:00</td><td>Fri.  5 Dec. 2014</td><td>3</td><td>3</td><td>DevConnection: Get Started: Content Page: Report Builder</td><td>Microsoft Internet Explorer 11</td><tr><td>2014-12-05 00:00:00</td><td>Fri.  5 Dec. 2014</td><td>2</td><td>2</td><td>DevConnection: Get Started: Content Page: Report Builder</td><td>Safari 7.0.6</td><tr><td>2014-12-05 00:00:00</td><td>Fri.  5 Dec. 2014</td><td>2</td><td>2</td><td>DevConnection: Get Started: Content Page: Report Builder</td><td>Google Chrome 38.0</td><tr><td>2014-12-05 00:00:00</td><td>Fri.  5 Dec. 2014</td><td>1</td><td>1</td><td>DevConnection: Get Started: Content Page: Report Builder</td><td>Google Chrome 35.0</td><tr><td>2014-12-05 00:00:00</td><td>Fri.  5 Dec. 2014</td><td>1</td><td>1</td><td>DevConnection: Get Started: Content Page: Report Builder</td><td>Google Chrome 34.0</td><tr><td>2014-12-05 00:00:00</td><td>Fri.  5 Dec. 2014</td><td>1</td><td>1</td><td>DevConnection: Get Started: Content Page: Report Builder</td><td>Google Chrome 5.0</td><tr><td>2014-12-05 00:00:00</td><td>Fri.  5 Dec. 2014</td><td>21</td><td>19</td><td>DevConnection: Documentation: Page: Methods</td><td>Google Chrome (unknown version)</td><tr><td>2014-12-05 00:00:00</td><td>Fri.  5 Dec. 2014</td><td>10</td><td>10</td><td>DevConnection: Documentation: Page: Methods</td><td>Mozilla Firefox (unknown version)</td><tr><td>2014-12-05 00:00:00</td><td>Fri.  5 Dec. 2014</td><td>3</td><td>3</td><td>DevConnection: Documentation: Page: Methods</td><td>Google Chrome 38.0</td><tr><td>2014-12-05 00:00:00</td><td>Fri.  5 Dec. 2014</td><td>2</td><td>2</td><td>DevConnection: Documentation: Page: Methods</td><td>Mozilla Firefox 31.0</td><tr><td>2014-12-05 00:00:00</td><td>Fri.  5 Dec. 2014</td><td>1</td><td>1</td><td>DevConnection: Documentation: Page: Methods</td><td>Google Chrome 37.0</td><tr><td>2014-12-05 00:00:00</td><td>Fri.  5 Dec. 2014</td><td>1</td><td>1</td><td>DevConnection: Documentation: Page: Methods</td><td>Google Chrome 30.0</td><tr><td>2014-12-05 00:00:00</td><td>Fri.  5 Dec. 2014</td><td>22</td><td>21</td><td>DevConnection: Documentation: Page: Analytics Reporting API</td><td>Google Chrome (unknown version)</td><tr><td>2014-12-05 00:00:00</td><td>Fri.  5 Dec. 2014</td><td>6</td><td>6</td><td>DevConnection: Documentation: Page: Analytics Reporting API</td><td>Mozilla Firefox (unknown version)</td><tr><td>2014-12-05 00:00:00</td><td>Fri.  5 Dec. 2014</td><td>1</td><td>1</td><td>DevConnection: Documentation: Page: Analytics Reporting API</td><td>Mozilla Firefox 31.0</td><tr><td>2014-12-05 00:00:00</td><td>Fri.  5 Dec. 2014</td><td>1</td><td>1</td><td>DevConnection: Documentation: Page: Analytics Reporting API</td><td>Mozilla Firefox 29.0</td><tr><td>2014-12-05 00:00:00</td><td>Fri.  5 Dec. 2014</td><td>1</td><td>1</td><td>DevConnection: Documentation: Page: Analytics Reporting API</td><td>Google Chrome 38.0</td><tr><td>2014-12-05 00:00:00</td><td>Fri.  5 Dec. 2014</td><td>1</td><td>1</td><td>DevConnection: Documentation: Page: Analytics Reporting API</td><td>Google Chrome 37.0</td><tr><td>2014-12-05 00:00:00</td><td>Fri.  5 Dec. 2014</td><td>1</td><td>1</td><td>DevConnection: Documentation: Page: Analytics Reporting API</td><td>Google Chrome 23.0</td><tr><td>2014-12-05 00:00:00</td><td>Fri.  5 Dec. 2014</td><td>15</td><td>13</td><td>DevConnection: Documentation: Page: Getting Started</td><td>Google Chrome (unknown version)</td><tr><td>2014-12-05 00:00:00</td><td>Fri.  5 Dec. 2014</td><td>8</td><td>8</td><td>DevConnection: Documentation: Page: Getting Started</td><td>Mozilla Firefox (unknown version)</td><tr><td>2014-12-05 00:00:00</td><td>Fri.  5 Dec. 2014</td><td>3</td><td>3</td><td>DevConnection: Documentation: Page: Getting Started</td><td>Mozilla Firefox 31.0</td><tr><td>2014-12-05 00:00:00</td><td>Fri.  5 Dec. 2014</td><td>1</td><td>1</td><td>DevConnection: Documentation: Page: Getting Started</td><td>Google Chrome 37.0</td><tr><td>2014-12-05 00:00:00</td><td>Fri.  5 Dec. 2014</td><td>1</td><td>1</td><td>DevConnection: Documentation: Page: Getting Started</td><td>Google Chrome 30.0</td><tr><td>2014-12-05 00:00:00</td><td>Fri.  5 Dec. 2014</td><td>1</td><td>1</td><td>DevConnection: Documentation: Page: Getting Started</td><td>Google Chrome 23.0</td><tr><td>2014-12-06 00:00:00</td><td>Sat.  6 Dec. 2014</td><td>8</td><td>5</td><td>DevConnection: Home</td><td>Google Chrome (unknown version)</td><tr><td>2014-12-06 00:00:00</td><td>Sat.  6 Dec. 2014</td><td>4</td><td>4</td><td>DevConnection: Home</td><td>Mozilla Firefox (unknown version)</td><tr><td>2014-12-06 00:00:00</td><td>Sat.  6 Dec. 2014</td><td>2</td><td>1</td><td>DevConnection: Home</td><td>Safari (unknown version)</td><tr><td>2014-12-06 00:00:00</td><td>Sat.  6 Dec. 2014</td><td>1</td><td>1</td><td>DevConnection: Home</td><td>Google Chrome 34.0</td><tr><td>2014-12-06 00:00:00</td><td>Sat.  6 Dec. 2014</td><td>1</td><td>1</td><td>DevConnection: Home</td><td>Microsoft Internet Explorer 11</td><tr><td>2014-12-06 00:00:00</td><td>Sat.  6 Dec. 2014</td><td>3</td><td>3</td><td>DevConnection: Get Started: API Explorer</td><td>Mozilla Firefox (unknown version)</td><tr><td>2014-12-06 00:00:00</td><td>Sat.  6 Dec. 2014</td><td>2</td><td>2</td><td>DevConnection: Get Started: API Explorer</td><td>Mozilla Firefox 32.0</td><tr><td>2014-12-06 00:00:00</td><td>Sat.  6 Dec. 2014</td><td>2</td><td>2</td><td>DevConnection: Get Started: API Explorer</td><td>Google Chrome (unknown version)</td><tr><td>2014-12-06 00:00:00</td><td>Sat.  6 Dec. 2014</td><td>1</td><td>1</td><td>DevConnection: Get Started: API Explorer</td><td>Safari 7.0.6</td><tr><td>2014-12-06 00:00:00</td><td>Sat.  6 Dec. 2014</td><td>1</td><td>1</td><td>DevConnection: Get Started: API Explorer</td><td>Google Chrome 38.0</td><tr><td>2014-12-06 00:00:00</td><td>Sat.  6 Dec. 2014</td><td>3</td><td>3</td><td>DevConnection: Get Started: Content Page: Measuring and Optimizing Mobile Applications</td><td>Mozilla Firefox (unknown version)</td><tr><td>2014-12-06 00:00:00</td><td>Sat.  6 Dec. 2014</td><td>2</td><td>2</td><td>DevConnection: Get Started: Content Page: Measuring and Optimizing Mobile Applications</td><td>Google Chrome (unknown version)</td><tr><td>2014-12-06 00:00:00</td><td>Sat.  6 Dec. 2014</td><td>1</td><td>1</td><td>DevConnection: Get Started: Content Page: Measuring and Optimizing Mobile Applications</td><td>Chrome Mobile 39.0.2171</td><tr><td>2014-12-06 00:00:00</td><td>Sat.  6 Dec. 2014</td><td>1</td><td>1</td><td>DevConnection: Get Started: Content Page: Measuring and Optimizing Mobile Applications</td><td>Mozilla Firefox 34.0</td><tr><td>2014-12-06 00:00:00</td><td>Sat.  6 Dec. 2014</td><td>1</td><td>1</td><td>DevConnection: Get Started: Content Page: Measuring and Optimizing Mobile Applications</td><td>Android Browser 4.0</td><tr><td>2014-12-06 00:00:00</td><td>Sat.  6 Dec. 2014</td><td>1</td><td>1</td><td>DevConnection: Get Started: Content Page: Measuring and Optimizing Mobile Applications</td><td>Safari 8.0</td><tr><td>2014-12-06 00:00:00</td><td>Sat.  6 Dec. 2014</td><td>2</td><td>2</td><td>Other</td><td>Safari 8.0</td><tr><td>2014-12-06 00:00:00</td><td>Sat.  6 Dec. 2014</td><td>2</td><td>2</td><td>Other</td><td>Mozilla Firefox (unknown version)</td><tr><td>2014-12-06 00:00:00</td><td>Sat.  6 Dec. 2014</td><td>1</td><td>1</td><td>Other</td><td>Microsoft Internet Explorer 11</td><tr><td>2014-12-06 00:00:00</td><td>Sat.  6 Dec. 2014</td><td>1</td><td>1</td><td>DevConnection: Documentation</td><td>Google Chrome (unknown version)</td><tr><td>2014-12-06 00:00:00</td><td>Sat.  6 Dec. 2014</td><td>1</td><td>1</td><td>DevConnection: Documentation</td><td>Mozilla Firefox (unknown version)</td><tr><td>2014-12-06 00:00:00</td><td>Sat.  6 Dec. 2014</td><td>10</td><td>10</td><td>DevConnection: Documentation: Page: HTTP GET Sample</td><td>Google Chrome (unknown version)</td><tr><td>2014-12-06 00:00:00</td><td>Sat.  6 Dec. 2014</td><td>3</td><td>3</td><td>DevConnection: Documentation: Page: HTTP GET Sample</td><td>Mozilla Firefox (unknown version)</td><tr><td>2014-12-06 00:00:00</td><td>Sat.  6 Dec. 2014</td><td>1</td><td>1</td><td>DevConnection: Documentation: Page: HTTP GET Sample</td><td>Mozilla Firefox 31.0</td><tr><td>2014-12-06 00:00:00</td><td>Sat.  6 Dec. 2014</td><td>1</td><td>1</td><td>DevConnection: Documentation: Page: HTTP GET Sample</td><td>Mozilla Firefox 32.0</td><tr><td>2014-12-06 00:00:00</td><td>Sat.  6 Dec. 2014</td><td>2</td><td>2</td><td>DevConnection: Get Started: Content Page: Report Builder</td><td>Mozilla Firefox (unknown version)</td><tr><td>2014-12-06 00:00:00</td><td>Sat.  6 Dec. 2014</td><td>1</td><td>1</td><td>DevConnection: Get Started: Content Page: Report Builder</td><td>Microsoft Internet Explorer 9</td><tr><td>2014-12-06 00:00:00</td><td>Sat.  6 Dec. 2014</td><td>1</td><td>1</td><td>DevConnection: Get Started: Content Page: Report Builder</td><td>Google Chrome (unknown version)</td><tr><td>2014-12-06 00:00:00</td><td>Sat.  6 Dec. 2014</td><td>3</td><td>2</td><td>DevConnection: Documentation: Page: Methods</td><td>Google Chrome (unknown version)</td><tr><td>2014-12-06 00:00:00</td><td>Sat.  6 Dec. 2014</td><td>1</td><td>1</td><td>DevConnection: Documentation: Page: Analytics Reporting API</td><td>Mozilla Firefox (unknown version)</td><tr><td>2014-12-06 00:00:00</td><td>Sat.  6 Dec. 2014</td><td>1</td><td>1</td><td>DevConnection: Documentation: Page: Getting Started</td><td>Mozilla Firefox (unknown version)</td><tr><td>2014-12-07 00:00:00</td><td>Sun.  7 Dec. 2014</td><td>13</td><td>10</td><td>DevConnection: Home</td><td>Google Chrome (unknown version)</td><tr><td>2014-12-07 00:00:00</td><td>Sun.  7 Dec. 2014</td><td>3</td><td>3</td><td>DevConnection: Home</td><td>Safari 8.0</td><tr><td>2014-12-07 00:00:00</td><td>Sun.  7 Dec. 2014</td><td>2</td><td>2</td><td>DevConnection: Home</td><td>Mozilla Firefox (unknown version)</td><tr><td>2014-12-07 00:00:00</td><td>Sun.  7 Dec. 2014</td><td>2</td><td>2</td><td>DevConnection: Home</td><td>Safari (unknown version)</td><tr><td>2014-12-07 00:00:00</td><td>Sun.  7 Dec. 2014</td><td>2</td><td>1</td><td>DevConnection: Home</td><td>Chrome Mobile 39.0.2171</td><tr><td>2014-12-07 00:00:00</td><td>Sun.  7 Dec. 2014</td><td>1</td><td>1</td><td>DevConnection: Home</td><td>Internet Explorer Mobile 11.0</td><tr><td>2014-12-07 00:00:00</td><td>Sun.  7 Dec. 2014</td><td>1</td><td>1</td><td>DevConnection: Home</td><td>Mozilla Firefox 32.0</td><tr><td>2014-12-07 00:00:00</td><td>Sun.  7 Dec. 2014</td><td>1</td><td>1</td><td>DevConnection: Home</td><td>Google Chrome 38.0</td><tr><td>2014-12-07 00:00:00</td><td>Sun.  7 Dec. 2014</td><td>1</td><td>1</td><td>DevConnection: Home</td><td>Google Chrome 31.0</td><tr><td>2014-12-07 00:00:00</td><td>Sun.  7 Dec. 2014</td><td>1</td><td>1</td><td>DevConnection: Home</td><td>Microsoft Internet Explorer 11</td><tr><td>2014-12-07 00:00:00</td><td>Sun.  7 Dec. 2014</td><td>21</td><td>18</td><td>DevConnection: Get Started: API Explorer</td><td>Google Chrome (unknown version)</td><tr><td>2014-12-07 00:00:00</td><td>Sun.  7 Dec. 2014</td><td>3</td><td>3</td><td>DevConnection: Get Started: API Explorer</td><td>Mozilla Firefox (unknown version)</td><tr><td>2014-12-07 00:00:00</td><td>Sun.  7 Dec. 2014</td><td>2</td><td>1</td><td>DevConnection: Get Started: API Explorer</td><td>Microsoft Internet Explorer 9</td><tr><td>2014-12-07 00:00:00</td><td>Sun.  7 Dec. 2014</td><td>1</td><td>1</td><td>DevConnection: Get Started: API Explorer</td><td>Mozilla Firefox 29.0</td><tr><td>2014-12-07 00:00:00</td><td>Sun.  7 Dec. 2014</td><td>1</td><td>1</td><td>DevConnection: Get Started: API Explorer</td><td>Safari 8.0</td><tr><td>2014-12-07 00:00:00</td><td>Sun.  7 Dec. 2014</td><td>1</td><td>1</td><td>DevConnection: Get Started: API Explorer</td><td>Google Chrome 36.0</td><tr><td>2014-12-07 00:00:00</td><td>Sun.  7 Dec. 2014</td><td>1</td><td>1</td><td>DevConnection: Get Started: API Explorer</td><td>Microsoft Internet Explorer 10</td><tr><td>2014-12-07 00:00:00</td><td>Sun.  7 Dec. 2014</td><td>1</td><td>1</td><td>DevConnection: Get Started: API Explorer</td><td>Safari 0.8.2</td><tr><td>2014-12-07 00:00:00</td><td>Sun.  7 Dec. 2014</td><td>11</td><td>11</td><td>DevConnection: Get Started: Content Page: Measuring and Optimizing Mobile Applications</td><td>Google Chrome (unknown version)</td><tr><td>2014-12-07 00:00:00</td><td>Sun.  7 Dec. 2014</td><td>4</td><td>4</td><td>DevConnection: Get Started: Content Page: Measuring and Optimizing Mobile Applications</td><td>Mozilla Firefox (unknown version)</td><tr><td>2014-12-07 00:00:00</td><td>Sun.  7 Dec. 2014</td><td>2</td><td>2</td><td>DevConnection: Get Started: Content Page: Measuring and Optimizing Mobile Applications</td><td>Google Chrome 38.0</td><tr><td>2014-12-07 00:00:00</td><td>Sun.  7 Dec. 2014</td><td>1</td><td>1</td><td>DevConnection: Get Started: Content Page: Measuring and Optimizing Mobile Applications</td><td>Android Browser 4.0</td><tr><td>2014-12-07 00:00:00</td><td>Sun.  7 Dec. 2014</td><td>1</td><td>1</td><td>DevConnection: Get Started: Content Page: Measuring and Optimizing Mobile Applications</td><td>Safari 8.0</td><tr><td>2014-12-07 00:00:00</td><td>Sun.  7 Dec. 2014</td><td>1</td><td>1</td><td>DevConnection: Get Started: Content Page: Measuring and Optimizing Mobile Applications</td><td>Mozilla Firefox 24.0</td><tr><td>2014-12-07 00:00:00</td><td>Sun.  7 Dec. 2014</td><td>1</td><td>1</td><td>DevConnection: Get Started: Content Page: Measuring and Optimizing Mobile Applications</td><td>Microsoft Internet Explorer 11</td><tr><td>2014-12-07 00:00:00</td><td>Sun.  7 Dec. 2014</td><td>5</td><td>5</td><td>Other</td><td>Google Chrome (unknown version)</td><tr><td>2014-12-07 00:00:00</td><td>Sun.  7 Dec. 2014</td><td>2</td><td>1</td><td>Other</td><td>Microsoft Internet Explorer 11</td><tr><td>2014-12-07 00:00:00</td><td>Sun.  7 Dec. 2014</td><td>1</td><td>1</td><td>Other</td><td>Safari 8.0</td><tr><td>2014-12-07 00:00:00</td><td>Sun.  7 Dec. 2014</td><td>1</td><td>1</td><td>Other</td><td>Google Chrome 38.0</td><tr><td>2014-12-07 00:00:00</td><td>Sun.  7 Dec. 2014</td><td>1</td><td>1</td><td>Other</td><td>Google Chrome 34.0</td><tr><td>2014-12-07 00:00:00</td><td>Sun.  7 Dec. 2014</td><td>1</td><td>1</td><td>Other</td><td>Google Chrome 31.0</td><tr><td>2014-12-07 00:00:00</td><td>Sun.  7 Dec. 2014</td><td>1</td><td>1</td><td>Other</td><td>Microsoft Internet Explorer 8</td><tr><td>2014-12-07 00:00:00</td><td>Sun.  7 Dec. 2014</td><td>1</td><td>1</td><td>Other</td><td>Mozilla Firefox (unknown version)</td><tr><td>2014-12-07 00:00:00</td><td>Sun.  7 Dec. 2014</td><td>5</td><td>5</td><td>DevConnection: Documentation</td><td>Google Chrome (unknown version)</td><tr><td>2014-12-07 00:00:00</td><td>Sun.  7 Dec. 2014</td><td>3</td><td>3</td><td>DevConnection: Documentation</td><td>Safari 8.0</td><tr><td>2014-12-07 00:00:00</td><td>Sun.  7 Dec. 2014</td><td>1</td><td>1</td><td>DevConnection: Documentation</td><td>Mozilla Firefox 30.0</td><tr><td>2014-12-07 00:00:00</td><td>Sun.  7 Dec. 2014</td><td>1</td><td>1</td><td>DevConnection: Documentation</td><td>Google Chrome 38.0</td><tr><td>2014-12-07 00:00:00</td><td>Sun.  7 Dec. 2014</td><td>1</td><td>1</td><td>DevConnection: Documentation</td><td>Microsoft Internet Explorer 11</td><tr><td>2014-12-07 00:00:00</td><td>Sun.  7 Dec. 2014</td><td>1</td><td>1</td><td>DevConnection: Documentation</td><td>Mozilla Firefox (unknown version)</td><tr><td>2014-12-07 00:00:00</td><td>Sun.  7 Dec. 2014</td><td>15</td><td>14</td><td>DevConnection: Documentation: Page: HTTP GET Sample</td><td>Google Chrome (unknown version)</td><tr><td>2014-12-07 00:00:00</td><td>Sun.  7 Dec. 2014</td><td>2</td><td>2</td><td>DevConnection: Documentation: Page: HTTP GET Sample</td><td>Safari (unknown version)</td><tr><td>2014-12-07 00:00:00</td><td>Sun.  7 Dec. 2014</td><td>1</td><td>1</td><td>DevConnection: Documentation: Page: HTTP GET Sample</td><td>Safari 8.0</td><tr><td>2014-12-07 00:00:00</td><td>Sun.  7 Dec. 2014</td><td>1</td><td>1</td><td>DevConnection: Documentation: Page: HTTP GET Sample</td><td>Google Chrome 38.0</td><tr><td>2014-12-07 00:00:00</td><td>Sun.  7 Dec. 2014</td><td>1</td><td>1</td><td>DevConnection: Documentation: Page: HTTP GET Sample</td><td>Google Chrome 34.0</td><tr><td>2014-12-07 00:00:00</td><td>Sun.  7 Dec. 2014</td><td>1</td><td>1</td><td>DevConnection: Documentation: Page: HTTP GET Sample</td><td>Google Chrome 33.0</td><tr><td>2014-12-07 00:00:00</td><td>Sun.  7 Dec. 2014</td><td>1</td><td>1</td><td>DevConnection: Documentation: Page: HTTP GET Sample</td><td>Microsoft Internet Explorer 11</td><tr><td>2014-12-07 00:00:00</td><td>Sun.  7 Dec. 2014</td><td>1</td><td>1</td><td>DevConnection: Documentation: Page: HTTP GET Sample</td><td>Opera 12</td><tr><td>2014-12-07 00:00:00</td><td>Sun.  7 Dec. 2014</td><td>1</td><td>1</td><td>DevConnection: Documentation: Page: HTTP GET Sample</td><td>Mozilla Firefox (unknown version)</td><tr><td>2014-12-07 00:00:00</td><td>Sun.  7 Dec. 2014</td><td>8</td><td>8</td><td>DevConnection: Get Started: Content Page: Report Builder</td><td>Google Chrome (unknown version)</td><tr><td>2014-12-07 00:00:00</td><td>Sun.  7 Dec. 2014</td><td>1</td><td>1</td><td>DevConnection: Get Started: Content Page: Report Builder</td><td>Android Browser</td><tr><td>2014-12-07 00:00:00</td><td>Sun.  7 Dec. 2014</td><td>1</td><td>1</td><td>DevConnection: Get Started: Content Page: Report Builder</td><td>Microsoft Internet Explorer 11</td><tr><td>2014-12-07 00:00:00</td><td>Sun.  7 Dec. 2014</td><td>1</td><td>1</td><td>DevConnection: Get Started: Content Page: Report Builder</td><td>Mozilla Firefox (unknown version)</td><tr><td>2014-12-07 00:00:00</td><td>Sun.  7 Dec. 2014</td><td>6</td><td>5</td><td>DevConnection: Documentation: Page: Methods</td><td>Google Chrome (unknown version)</td><tr><td>2014-12-07 00:00:00</td><td>Sun.  7 Dec. 2014</td><td>4</td><td>4</td><td>DevConnection: Documentation: Page: Methods</td><td>Mozilla Firefox (unknown version)</td><tr><td>2014-12-07 00:00:00</td><td>Sun.  7 Dec. 2014</td><td>2</td><td>2</td><td>DevConnection: Documentation: Page: Methods</td><td>Safari 8.0</td><tr><td>2014-12-07 00:00:00</td><td>Sun.  7 Dec. 2014</td><td>1</td><td>1</td><td>DevConnection: Documentation: Page: Methods</td><td>Google Chrome 11.0</td><tr><td>2014-12-07 00:00:00</td><td>Sun.  7 Dec. 2014</td><td>7</td><td>7</td><td>DevConnection: Documentation: Page: Analytics Reporting API</td><td>Google Chrome (unknown version)</td><tr><td>2014-12-07 00:00:00</td><td>Sun.  7 Dec. 2014</td><td>2</td><td>2</td><td>DevConnection: Documentation: Page: Analytics Reporting API</td><td>Safari 8.0</td><tr><td>2014-12-07 00:00:00</td><td>Sun.  7 Dec. 2014</td><td>2</td><td>2</td><td>DevConnection: Documentation: Page: Analytics Reporting API</td><td>Mozilla Firefox (unknown version)</td><tr><td>2014-12-07 00:00:00</td><td>Sun.  7 Dec. 2014</td><td>5</td><td>4</td><td>DevConnection: Documentation: Page: Getting Started</td><td>Google Chrome (unknown version)</td><tr><td>2014-12-07 00:00:00</td><td>Sun.  7 Dec. 2014</td><td>2</td><td>2</td><td>DevConnection: Documentation: Page: Getting Started</td><td>Safari 8.0</td><tr><td>2014-12-07 00:00:00</td><td>Sun.  7 Dec. 2014</td><td>2</td><td>1</td><td>DevConnection: Documentation: Page: Getting Started</td><td>Mozilla Firefox (unknown version)</td><tr><td>2014-12-07 00:00:00</td><td>Sun.  7 Dec. 2014</td><td>1</td><td>1</td><td>DevConnection: Documentation: Page: Getting Started</td><td>Google Chrome 38.0</td><tr><td>2014-12-07 00:00:00</td><td>Sun.  7 Dec. 2014</td><td>1</td><td>1</td><td>DevConnection: Documentation: Page: Getting Started</td><td>Google Chrome 31.0</td>"
       ],
       "metadata": {},
       "output_type": "pyout",
       "prompt_number": 20,
       "text": [
        "<omniture.Report (metrics) ID visits                    | Name: Visits \n",
        ", ID visitors                  | Name: Visitors \n",
        " (elements) ID page                      | Name: Page \n",
        ", ID browser                   | Name: Browser \n",
        ">"
       ]
      }
     ],
     "prompt_number": 20
    },
    {
     "cell_type": "markdown",
     "metadata": {},
     "source": [
      "You can pull almost any report that you would in Analytics by combining different elements, metrics, and date granularities. Here is a mapping of how the to run the different types of reports "
     ]
    },
    {
     "cell_type": "markdown",
     "metadata": {},
     "source": [
      "|Report Type | Parameters |\n",
      "|-----|----|\n",
      "|**Overtime Report**|No elements with a dateGranularity specified.|\n",
      "|**Ranked Report**|1 or more elements with no dateGranularity specified.|\n",
      "|**Trended Report**|1 or more elements with a dateGranularity specified.|\n",
      "|**Pathing Report**|Element in the pattern parameter.|\n",
      "|**Fallout Report**|Element in the checkpoint parameter.|\n"
     ]
    }
   ],
   "metadata": {}
  }
 ]
}