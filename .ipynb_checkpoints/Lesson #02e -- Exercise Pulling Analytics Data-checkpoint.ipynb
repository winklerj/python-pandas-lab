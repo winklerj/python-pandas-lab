{
 "metadata": {
  "name": "",
  "signature": "sha256:349109c10a648bc29719c707277bbd067ce5e9e67aef9d44b95fa01a40ced2fc"
 },
 "nbformat": 3,
 "nbformat_minor": 0,
 "worksheets": [
  {
   "cells": [
    {
     "cell_type": "heading",
     "level": 1,
     "metadata": {},
     "source": [
      "Lesson #02 Exercise"
     ]
    },
    {
     "cell_type": "markdown",
     "metadata": {},
     "source": [
      "**Time: 10min**"
     ]
    },
    {
     "cell_type": "markdown",
     "metadata": {},
     "source": [
      "In this excercise I want you to play around with the library and get a feel for how to use it. \n",
      "* Pull a list of report suites\n",
      "* Pull a list of elements and metrics for a report suite\n",
      "* Run a report on Omniture.devportal\n",
      "* Run an overtime\n",
      "  * Metric: pageviews\n",
      "  \n",
      "\n",
      "Optional (Advanced)\n",
      "* Run a ranked report for last month using the following. \n",
      "  * Element: pages\n",
      "  * Metrics: pageviews, visits, visitors\n",
      "* Run a trended report\n",
      "* Do a Breakdown Pages by State (Use geostate)"
     ]
    },
    {
     "cell_type": "code",
     "collapsed": false,
     "input": [
      "import omniture\n",
      "\n",
      "#Read credentials file\n",
      "#Example file format: username|pass-key|https://api-sbx1.omniture.com/admin/1.4/rest/\n",
      "with open('credentials.txt') as f:\n",
      "  credentials = [x.strip().split('|') for x in f.readlines()]\n",
      "\n",
      "#Loop through lines in the file\n",
      "for username,password,url in credentials:\n",
      "    #If url is provided\n",
      "    if url:\n",
      "        print(username)\n",
      "        print(password)\n",
      "        print(url)\n",
      "        an = omniture.authenticate(username,password,url)\n",
      "    #If no url is provided\n",
      "    else:\n",
      "        print(username)\n",
      "        print(password)\n",
      "        an = omniture.authenticate(username,password)\n",
      "\n",
      "%matplotlib inline"
     ],
     "language": "python",
     "metadata": {},
     "outputs": []
    },
    {
     "cell_type": "code",
     "collapsed": false,
     "input": [
      "an.suites"
     ],
     "language": "python",
     "metadata": {},
     "outputs": []
    },
    {
     "cell_type": "code",
     "collapsed": false,
     "input": [
      "suite = an.suites['genclone2.19-23']\n",
      "suite.elements"
     ],
     "language": "python",
     "metadata": {},
     "outputs": []
    },
    {
     "cell_type": "code",
     "collapsed": false,
     "input": [
      "suite.metrics"
     ],
     "language": "python",
     "metadata": {},
     "outputs": []
    },
    {
     "cell_type": "code",
     "collapsed": false,
     "input": [
      "suite.report.run()"
     ],
     "language": "python",
     "metadata": {},
     "outputs": []
    },
    {
     "cell_type": "code",
     "collapsed": false,
     "input": [
      "report = suite.report.metric(\"visits\").range('2013-04-01','2014-10-31').run()\n",
      "report"
     ],
     "language": "python",
     "metadata": {},
     "outputs": []
    },
    {
     "cell_type": "code",
     "collapsed": false,
     "input": [
      "report = suite.report.element(\"page\").metric(\"pageviews\").metric(\"visits\").metric('visitors').range('2013-04-01','2013-10-31').run()\n",
      "report"
     ],
     "language": "python",
     "metadata": {},
     "outputs": []
    },
    {
     "cell_type": "code",
     "collapsed": false,
     "input": [
      "report = suite.report.element(\"page\").metric(\"pageviews\").metric(\"visits\").metric('visitors').element('geostate').range('2013-04-01','2013-10-31').run()\n",
      "report"
     ],
     "language": "python",
     "metadata": {},
     "outputs": []
    },
    {
     "cell_type": "code",
     "collapsed": false,
     "input": [
      "report = suite.report.element(\"page\").metric(\"pageviews\").metric(\"visits\").metric('visitors').granularity(\"day\").range('2013-04-01','2013-10-31').run()\n",
      "report"
     ],
     "language": "python",
     "metadata": {},
     "outputs": []
    },
    {
     "cell_type": "code",
     "collapsed": false,
     "input": [],
     "language": "python",
     "metadata": {},
     "outputs": []
    }
   ],
   "metadata": {}
  }
 ]
}