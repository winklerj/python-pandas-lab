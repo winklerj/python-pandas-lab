{
 "metadata": {
  "name": "",
  "signature": "sha256:1167bf9e23a1a1e55c4ec3de7749b67a857b998c37c732df572616ebc7a59cd1"
 },
 "nbformat": 3,
 "nbformat_minor": 0,
 "worksheets": [
  {
   "cells": [
    {
     "cell_type": "heading",
     "level": 1,
     "metadata": {},
     "source": [
      "Lesson #01 Exercise "
     ]
    },
    {
     "cell_type": "markdown",
     "metadata": {},
     "source": [
      "**Time :5 min** \n",
      "\n",
      "In this exercise I want you to play around with the interface and get familiar with it. Here are few things to try. \n",
      "\n",
      "Do the following. \n",
      "* Run through the interface tour (Help -> User Interface Tour)\n",
      "* Create a markdown cell and type your name\n",
      "* Create a new code cell and print your name\n",
      "* Move the code cell above the markdown cell\n",
      "* Delete the Markdown cell you have\n",
      "\n",
      "Optional (Advanced)\n",
      "* Import the time module\n",
      "* Print the current time\n",
      "* Restart the Kernel\n",
      "* Run all the cells \n",
      "* Download the notebook as a python script"
     ]
    },
    {
     "cell_type": "code",
     "collapsed": false,
     "input": [
      "import time\n",
      "time.ctime()"
     ],
     "language": "python",
     "metadata": {},
     "outputs": [
      {
       "metadata": {},
       "output_type": "pyout",
       "prompt_number": 6,
       "text": [
        "'Thu Mar 12 09:46:41 2015'"
       ]
      }
     ],
     "prompt_number": 6
    },
    {
     "cell_type": "markdown",
     "metadata": {},
     "source": [
      "time."
     ]
    },
    {
     "cell_type": "markdown",
     "metadata": {},
     "source": [
      "Pete Moss"
     ]
    },
    {
     "cell_type": "code",
     "collapsed": false,
     "input": [],
     "language": "python",
     "metadata": {},
     "outputs": []
    }
   ],
   "metadata": {}
  }
 ]
}